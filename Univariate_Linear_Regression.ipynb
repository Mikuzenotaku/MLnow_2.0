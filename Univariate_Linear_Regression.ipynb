{
  "nbformat": 4,
  "nbformat_minor": 0,
  "metadata": {
    "colab": {
      "name": "Univariate_Linear_Regression.ipynb",
      "provenance": [],
      "authorship_tag": "ABX9TyM3L5apqw00xUEX/s0Wcd9m",
      "include_colab_link": true
    },
    "kernelspec": {
      "name": "python3",
      "display_name": "Python 3"
    },
    "language_info": {
      "name": "python"
    }
  },
  "cells": [
    {
      "cell_type": "markdown",
      "metadata": {
        "id": "view-in-github",
        "colab_type": "text"
      },
      "source": [
        "<a href=\"https://colab.research.google.com/github/Mikuzenotaku/MLnow_2.0/blob/main/Univariate_Linear_Regression.ipynb\" target=\"_parent\"><img src=\"https://colab.research.google.com/assets/colab-badge.svg\" alt=\"Open In Colab\"/></a>"
      ]
    },
    {
      "cell_type": "markdown",
      "metadata": {
        "id": "kywsjpGngmg2"
      },
      "source": [
        "**Date-6.06.2021**"
      ]
    },
    {
      "cell_type": "markdown",
      "metadata": {
        "id": "XjNLytTVDdZg"
      },
      "source": [
        "***Author***-Prashanti Garnaik"
      ]
    },
    {
      "cell_type": "code",
      "metadata": {
        "colab": {
          "base_uri": "https://localhost:8080/"
        },
        "id": "AboDbHvCfneM",
        "outputId": "695c3279-243f-4b4f-8588-63edd6f6ced8"
      },
      "source": [
        "from google.colab import drive\n",
        "drive.mount('/content/drive')"
      ],
      "execution_count": null,
      "outputs": [
        {
          "output_type": "stream",
          "text": [
            "Drive already mounted at /content/drive; to attempt to forcibly remount, call drive.mount(\"/content/drive\", force_remount=True).\n"
          ],
          "name": "stdout"
        }
      ]
    },
    {
      "cell_type": "code",
      "metadata": {
        "id": "k978N2_BsoRT",
        "colab": {
          "base_uri": "https://localhost:8080/"
        },
        "outputId": "9d0469ec-f7de-4c65-ca9e-0235715d7995"
      },
      "source": [
        "cd/content/drive/MyDrive/Colab Notebooks/02_EDA"
      ],
      "execution_count": null,
      "outputs": [
        {
          "output_type": "stream",
          "text": [
            "/content/drive/MyDrive/Colab Notebooks/02_EDA\n"
          ],
          "name": "stdout"
        }
      ]
    },
    {
      "cell_type": "code",
      "metadata": {
        "colab": {
          "base_uri": "https://localhost:8080/"
        },
        "id": "IFKs1IBteA3V",
        "outputId": "68c86deb-416e-4cc7-937d-dec10e802668"
      },
      "source": [
        "ls"
      ],
      "execution_count": null,
      "outputs": [
        {
          "output_type": "stream",
          "text": [
            "02_EDA.ipynb         student-merge.R     student.txt\n",
            "cleanedMathData.csv  student-por.csv     student.zip\n",
            "student-mat.csv      student-por.gsheet  univariate_MathData_2.csv\n"
          ],
          "name": "stdout"
        }
      ]
    },
    {
      "cell_type": "code",
      "metadata": {
        "id": "hXKp7bqdeZmK"
      },
      "source": [
        "import os"
      ],
      "execution_count": null,
      "outputs": []
    },
    {
      "cell_type": "code",
      "metadata": {
        "id": "O6hWUGQYecrX"
      },
      "source": [
        "import pandas as pd #working with csv and excel files\n",
        "import numpy as np#working withnumbers/arreys/tensors\n",
        "import tensorflow as tf #framework\n",
        "from tensorflow import keras#API/Library\n",
        "import os #usin os command between the python language"
      ],
      "execution_count": null,
      "outputs": []
    },
    {
      "cell_type": "code",
      "metadata": {
        "id": "B8E6hXMbf7tS"
      },
      "source": [
        "mathData=pd.read_csv('student-mat.csv',sep=';')#load the csv file as dataframe"
      ],
      "execution_count": null,
      "outputs": []
    },
    {
      "cell_type": "code",
      "metadata": {
        "colab": {
          "base_uri": "https://localhost:8080/",
          "height": 379
        },
        "id": "fZ4HFZmogbWB",
        "outputId": "94b48d87-6edb-4f21-a44c-38deba52e3b1"
      },
      "source": [
        "mathData.head(10)#print the first ten rows of the data frame"
      ],
      "execution_count": null,
      "outputs": [
        {
          "output_type": "execute_result",
          "data": {
            "text/html": [
              "<div>\n",
              "<style scoped>\n",
              "    .dataframe tbody tr th:only-of-type {\n",
              "        vertical-align: middle;\n",
              "    }\n",
              "\n",
              "    .dataframe tbody tr th {\n",
              "        vertical-align: top;\n",
              "    }\n",
              "\n",
              "    .dataframe thead th {\n",
              "        text-align: right;\n",
              "    }\n",
              "</style>\n",
              "<table border=\"1\" class=\"dataframe\">\n",
              "  <thead>\n",
              "    <tr style=\"text-align: right;\">\n",
              "      <th></th>\n",
              "      <th>school</th>\n",
              "      <th>sex</th>\n",
              "      <th>age</th>\n",
              "      <th>address</th>\n",
              "      <th>famsize</th>\n",
              "      <th>Pstatus</th>\n",
              "      <th>Medu</th>\n",
              "      <th>Fedu</th>\n",
              "      <th>Mjob</th>\n",
              "      <th>Fjob</th>\n",
              "      <th>reason</th>\n",
              "      <th>guardian</th>\n",
              "      <th>traveltime</th>\n",
              "      <th>studytime</th>\n",
              "      <th>failures</th>\n",
              "      <th>schoolsup</th>\n",
              "      <th>famsup</th>\n",
              "      <th>paid</th>\n",
              "      <th>activities</th>\n",
              "      <th>nursery</th>\n",
              "      <th>higher</th>\n",
              "      <th>internet</th>\n",
              "      <th>romantic</th>\n",
              "      <th>famrel</th>\n",
              "      <th>freetime</th>\n",
              "      <th>goout</th>\n",
              "      <th>Dalc</th>\n",
              "      <th>Walc</th>\n",
              "      <th>health</th>\n",
              "      <th>absences</th>\n",
              "      <th>G1</th>\n",
              "      <th>G2</th>\n",
              "      <th>G3</th>\n",
              "    </tr>\n",
              "  </thead>\n",
              "  <tbody>\n",
              "    <tr>\n",
              "      <th>0</th>\n",
              "      <td>GP</td>\n",
              "      <td>F</td>\n",
              "      <td>18</td>\n",
              "      <td>U</td>\n",
              "      <td>GT3</td>\n",
              "      <td>A</td>\n",
              "      <td>4</td>\n",
              "      <td>4</td>\n",
              "      <td>at_home</td>\n",
              "      <td>teacher</td>\n",
              "      <td>course</td>\n",
              "      <td>mother</td>\n",
              "      <td>2</td>\n",
              "      <td>2</td>\n",
              "      <td>0</td>\n",
              "      <td>yes</td>\n",
              "      <td>no</td>\n",
              "      <td>no</td>\n",
              "      <td>no</td>\n",
              "      <td>yes</td>\n",
              "      <td>yes</td>\n",
              "      <td>no</td>\n",
              "      <td>no</td>\n",
              "      <td>4</td>\n",
              "      <td>3</td>\n",
              "      <td>4</td>\n",
              "      <td>1</td>\n",
              "      <td>1</td>\n",
              "      <td>3</td>\n",
              "      <td>6</td>\n",
              "      <td>5</td>\n",
              "      <td>6</td>\n",
              "      <td>6</td>\n",
              "    </tr>\n",
              "    <tr>\n",
              "      <th>1</th>\n",
              "      <td>GP</td>\n",
              "      <td>F</td>\n",
              "      <td>17</td>\n",
              "      <td>U</td>\n",
              "      <td>GT3</td>\n",
              "      <td>T</td>\n",
              "      <td>1</td>\n",
              "      <td>1</td>\n",
              "      <td>at_home</td>\n",
              "      <td>other</td>\n",
              "      <td>course</td>\n",
              "      <td>father</td>\n",
              "      <td>1</td>\n",
              "      <td>2</td>\n",
              "      <td>0</td>\n",
              "      <td>no</td>\n",
              "      <td>yes</td>\n",
              "      <td>no</td>\n",
              "      <td>no</td>\n",
              "      <td>no</td>\n",
              "      <td>yes</td>\n",
              "      <td>yes</td>\n",
              "      <td>no</td>\n",
              "      <td>5</td>\n",
              "      <td>3</td>\n",
              "      <td>3</td>\n",
              "      <td>1</td>\n",
              "      <td>1</td>\n",
              "      <td>3</td>\n",
              "      <td>4</td>\n",
              "      <td>5</td>\n",
              "      <td>5</td>\n",
              "      <td>6</td>\n",
              "    </tr>\n",
              "    <tr>\n",
              "      <th>2</th>\n",
              "      <td>GP</td>\n",
              "      <td>F</td>\n",
              "      <td>15</td>\n",
              "      <td>U</td>\n",
              "      <td>LE3</td>\n",
              "      <td>T</td>\n",
              "      <td>1</td>\n",
              "      <td>1</td>\n",
              "      <td>at_home</td>\n",
              "      <td>other</td>\n",
              "      <td>other</td>\n",
              "      <td>mother</td>\n",
              "      <td>1</td>\n",
              "      <td>2</td>\n",
              "      <td>3</td>\n",
              "      <td>yes</td>\n",
              "      <td>no</td>\n",
              "      <td>yes</td>\n",
              "      <td>no</td>\n",
              "      <td>yes</td>\n",
              "      <td>yes</td>\n",
              "      <td>yes</td>\n",
              "      <td>no</td>\n",
              "      <td>4</td>\n",
              "      <td>3</td>\n",
              "      <td>2</td>\n",
              "      <td>2</td>\n",
              "      <td>3</td>\n",
              "      <td>3</td>\n",
              "      <td>10</td>\n",
              "      <td>7</td>\n",
              "      <td>8</td>\n",
              "      <td>10</td>\n",
              "    </tr>\n",
              "    <tr>\n",
              "      <th>3</th>\n",
              "      <td>GP</td>\n",
              "      <td>F</td>\n",
              "      <td>15</td>\n",
              "      <td>U</td>\n",
              "      <td>GT3</td>\n",
              "      <td>T</td>\n",
              "      <td>4</td>\n",
              "      <td>2</td>\n",
              "      <td>health</td>\n",
              "      <td>services</td>\n",
              "      <td>home</td>\n",
              "      <td>mother</td>\n",
              "      <td>1</td>\n",
              "      <td>3</td>\n",
              "      <td>0</td>\n",
              "      <td>no</td>\n",
              "      <td>yes</td>\n",
              "      <td>yes</td>\n",
              "      <td>yes</td>\n",
              "      <td>yes</td>\n",
              "      <td>yes</td>\n",
              "      <td>yes</td>\n",
              "      <td>yes</td>\n",
              "      <td>3</td>\n",
              "      <td>2</td>\n",
              "      <td>2</td>\n",
              "      <td>1</td>\n",
              "      <td>1</td>\n",
              "      <td>5</td>\n",
              "      <td>2</td>\n",
              "      <td>15</td>\n",
              "      <td>14</td>\n",
              "      <td>15</td>\n",
              "    </tr>\n",
              "    <tr>\n",
              "      <th>4</th>\n",
              "      <td>GP</td>\n",
              "      <td>F</td>\n",
              "      <td>16</td>\n",
              "      <td>U</td>\n",
              "      <td>GT3</td>\n",
              "      <td>T</td>\n",
              "      <td>3</td>\n",
              "      <td>3</td>\n",
              "      <td>other</td>\n",
              "      <td>other</td>\n",
              "      <td>home</td>\n",
              "      <td>father</td>\n",
              "      <td>1</td>\n",
              "      <td>2</td>\n",
              "      <td>0</td>\n",
              "      <td>no</td>\n",
              "      <td>yes</td>\n",
              "      <td>yes</td>\n",
              "      <td>no</td>\n",
              "      <td>yes</td>\n",
              "      <td>yes</td>\n",
              "      <td>no</td>\n",
              "      <td>no</td>\n",
              "      <td>4</td>\n",
              "      <td>3</td>\n",
              "      <td>2</td>\n",
              "      <td>1</td>\n",
              "      <td>2</td>\n",
              "      <td>5</td>\n",
              "      <td>4</td>\n",
              "      <td>6</td>\n",
              "      <td>10</td>\n",
              "      <td>10</td>\n",
              "    </tr>\n",
              "    <tr>\n",
              "      <th>5</th>\n",
              "      <td>GP</td>\n",
              "      <td>M</td>\n",
              "      <td>16</td>\n",
              "      <td>U</td>\n",
              "      <td>LE3</td>\n",
              "      <td>T</td>\n",
              "      <td>4</td>\n",
              "      <td>3</td>\n",
              "      <td>services</td>\n",
              "      <td>other</td>\n",
              "      <td>reputation</td>\n",
              "      <td>mother</td>\n",
              "      <td>1</td>\n",
              "      <td>2</td>\n",
              "      <td>0</td>\n",
              "      <td>no</td>\n",
              "      <td>yes</td>\n",
              "      <td>yes</td>\n",
              "      <td>yes</td>\n",
              "      <td>yes</td>\n",
              "      <td>yes</td>\n",
              "      <td>yes</td>\n",
              "      <td>no</td>\n",
              "      <td>5</td>\n",
              "      <td>4</td>\n",
              "      <td>2</td>\n",
              "      <td>1</td>\n",
              "      <td>2</td>\n",
              "      <td>5</td>\n",
              "      <td>10</td>\n",
              "      <td>15</td>\n",
              "      <td>15</td>\n",
              "      <td>15</td>\n",
              "    </tr>\n",
              "    <tr>\n",
              "      <th>6</th>\n",
              "      <td>GP</td>\n",
              "      <td>M</td>\n",
              "      <td>16</td>\n",
              "      <td>U</td>\n",
              "      <td>LE3</td>\n",
              "      <td>T</td>\n",
              "      <td>2</td>\n",
              "      <td>2</td>\n",
              "      <td>other</td>\n",
              "      <td>other</td>\n",
              "      <td>home</td>\n",
              "      <td>mother</td>\n",
              "      <td>1</td>\n",
              "      <td>2</td>\n",
              "      <td>0</td>\n",
              "      <td>no</td>\n",
              "      <td>no</td>\n",
              "      <td>no</td>\n",
              "      <td>no</td>\n",
              "      <td>yes</td>\n",
              "      <td>yes</td>\n",
              "      <td>yes</td>\n",
              "      <td>no</td>\n",
              "      <td>4</td>\n",
              "      <td>4</td>\n",
              "      <td>4</td>\n",
              "      <td>1</td>\n",
              "      <td>1</td>\n",
              "      <td>3</td>\n",
              "      <td>0</td>\n",
              "      <td>12</td>\n",
              "      <td>12</td>\n",
              "      <td>11</td>\n",
              "    </tr>\n",
              "    <tr>\n",
              "      <th>7</th>\n",
              "      <td>GP</td>\n",
              "      <td>F</td>\n",
              "      <td>17</td>\n",
              "      <td>U</td>\n",
              "      <td>GT3</td>\n",
              "      <td>A</td>\n",
              "      <td>4</td>\n",
              "      <td>4</td>\n",
              "      <td>other</td>\n",
              "      <td>teacher</td>\n",
              "      <td>home</td>\n",
              "      <td>mother</td>\n",
              "      <td>2</td>\n",
              "      <td>2</td>\n",
              "      <td>0</td>\n",
              "      <td>yes</td>\n",
              "      <td>yes</td>\n",
              "      <td>no</td>\n",
              "      <td>no</td>\n",
              "      <td>yes</td>\n",
              "      <td>yes</td>\n",
              "      <td>no</td>\n",
              "      <td>no</td>\n",
              "      <td>4</td>\n",
              "      <td>1</td>\n",
              "      <td>4</td>\n",
              "      <td>1</td>\n",
              "      <td>1</td>\n",
              "      <td>1</td>\n",
              "      <td>6</td>\n",
              "      <td>6</td>\n",
              "      <td>5</td>\n",
              "      <td>6</td>\n",
              "    </tr>\n",
              "    <tr>\n",
              "      <th>8</th>\n",
              "      <td>GP</td>\n",
              "      <td>M</td>\n",
              "      <td>15</td>\n",
              "      <td>U</td>\n",
              "      <td>LE3</td>\n",
              "      <td>A</td>\n",
              "      <td>3</td>\n",
              "      <td>2</td>\n",
              "      <td>services</td>\n",
              "      <td>other</td>\n",
              "      <td>home</td>\n",
              "      <td>mother</td>\n",
              "      <td>1</td>\n",
              "      <td>2</td>\n",
              "      <td>0</td>\n",
              "      <td>no</td>\n",
              "      <td>yes</td>\n",
              "      <td>yes</td>\n",
              "      <td>no</td>\n",
              "      <td>yes</td>\n",
              "      <td>yes</td>\n",
              "      <td>yes</td>\n",
              "      <td>no</td>\n",
              "      <td>4</td>\n",
              "      <td>2</td>\n",
              "      <td>2</td>\n",
              "      <td>1</td>\n",
              "      <td>1</td>\n",
              "      <td>1</td>\n",
              "      <td>0</td>\n",
              "      <td>16</td>\n",
              "      <td>18</td>\n",
              "      <td>19</td>\n",
              "    </tr>\n",
              "    <tr>\n",
              "      <th>9</th>\n",
              "      <td>GP</td>\n",
              "      <td>M</td>\n",
              "      <td>15</td>\n",
              "      <td>U</td>\n",
              "      <td>GT3</td>\n",
              "      <td>T</td>\n",
              "      <td>3</td>\n",
              "      <td>4</td>\n",
              "      <td>other</td>\n",
              "      <td>other</td>\n",
              "      <td>home</td>\n",
              "      <td>mother</td>\n",
              "      <td>1</td>\n",
              "      <td>2</td>\n",
              "      <td>0</td>\n",
              "      <td>no</td>\n",
              "      <td>yes</td>\n",
              "      <td>yes</td>\n",
              "      <td>yes</td>\n",
              "      <td>yes</td>\n",
              "      <td>yes</td>\n",
              "      <td>yes</td>\n",
              "      <td>no</td>\n",
              "      <td>5</td>\n",
              "      <td>5</td>\n",
              "      <td>1</td>\n",
              "      <td>1</td>\n",
              "      <td>1</td>\n",
              "      <td>5</td>\n",
              "      <td>0</td>\n",
              "      <td>14</td>\n",
              "      <td>15</td>\n",
              "      <td>15</td>\n",
              "    </tr>\n",
              "  </tbody>\n",
              "</table>\n",
              "</div>"
            ],
            "text/plain": [
              "  school sex  age address famsize Pstatus  ...  Walc  health absences  G1  G2  G3\n",
              "0     GP   F   18       U     GT3       A  ...     1       3        6   5   6   6\n",
              "1     GP   F   17       U     GT3       T  ...     1       3        4   5   5   6\n",
              "2     GP   F   15       U     LE3       T  ...     3       3       10   7   8  10\n",
              "3     GP   F   15       U     GT3       T  ...     1       5        2  15  14  15\n",
              "4     GP   F   16       U     GT3       T  ...     2       5        4   6  10  10\n",
              "5     GP   M   16       U     LE3       T  ...     2       5       10  15  15  15\n",
              "6     GP   M   16       U     LE3       T  ...     1       3        0  12  12  11\n",
              "7     GP   F   17       U     GT3       A  ...     1       1        6   6   5   6\n",
              "8     GP   M   15       U     LE3       A  ...     1       1        0  16  18  19\n",
              "9     GP   M   15       U     GT3       T  ...     1       5        0  14  15  15\n",
              "\n",
              "[10 rows x 33 columns]"
            ]
          },
          "metadata": {
            "tags": []
          },
          "execution_count": 101
        }
      ]
    },
    {
      "cell_type": "markdown",
      "metadata": {
        "id": "Iq_AcQ4C7epZ"
      },
      "source": [
        "We are going to consider the columns 'G1' and 'G3' for univeriate linear regression\n",
        "\n",
        "$G3_i=G1_i\\cdot\\theta_1+\\theta_0$"
      ]
    },
    {
      "cell_type": "code",
      "metadata": {
        "colab": {
          "base_uri": "https://localhost:8080/",
          "height": 204
        },
        "id": "VC1SPNnC9YQ3",
        "outputId": "5ee92380-87de-461f-b21b-f8fff2c16e02"
      },
      "source": [
        "uniMathData=mathData[['G1','G3']]\n",
        "uniMathData.head(5)"
      ],
      "execution_count": null,
      "outputs": [
        {
          "output_type": "execute_result",
          "data": {
            "text/html": [
              "<div>\n",
              "<style scoped>\n",
              "    .dataframe tbody tr th:only-of-type {\n",
              "        vertical-align: middle;\n",
              "    }\n",
              "\n",
              "    .dataframe tbody tr th {\n",
              "        vertical-align: top;\n",
              "    }\n",
              "\n",
              "    .dataframe thead th {\n",
              "        text-align: right;\n",
              "    }\n",
              "</style>\n",
              "<table border=\"1\" class=\"dataframe\">\n",
              "  <thead>\n",
              "    <tr style=\"text-align: right;\">\n",
              "      <th></th>\n",
              "      <th>G1</th>\n",
              "      <th>G3</th>\n",
              "    </tr>\n",
              "  </thead>\n",
              "  <tbody>\n",
              "    <tr>\n",
              "      <th>0</th>\n",
              "      <td>5</td>\n",
              "      <td>6</td>\n",
              "    </tr>\n",
              "    <tr>\n",
              "      <th>1</th>\n",
              "      <td>5</td>\n",
              "      <td>6</td>\n",
              "    </tr>\n",
              "    <tr>\n",
              "      <th>2</th>\n",
              "      <td>7</td>\n",
              "      <td>10</td>\n",
              "    </tr>\n",
              "    <tr>\n",
              "      <th>3</th>\n",
              "      <td>15</td>\n",
              "      <td>15</td>\n",
              "    </tr>\n",
              "    <tr>\n",
              "      <th>4</th>\n",
              "      <td>6</td>\n",
              "      <td>10</td>\n",
              "    </tr>\n",
              "  </tbody>\n",
              "</table>\n",
              "</div>"
            ],
            "text/plain": [
              "   G1  G3\n",
              "0   5   6\n",
              "1   5   6\n",
              "2   7  10\n",
              "3  15  15\n",
              "4   6  10"
            ]
          },
          "metadata": {
            "tags": []
          },
          "execution_count": 102
        }
      ]
    },
    {
      "cell_type": "code",
      "metadata": {
        "id": "yvrVoDi5-7hW"
      },
      "source": [
        "uniMathData.to_csv('univariate_MathData_2.csv')"
      ],
      "execution_count": null,
      "outputs": []
    },
    {
      "cell_type": "code",
      "metadata": {
        "colab": {
          "base_uri": "https://localhost:8080/"
        },
        "id": "lAgoZGcl_MDq",
        "outputId": "476c3a4d-414c-403a-9734-723227245120"
      },
      "source": [
        "ls"
      ],
      "execution_count": null,
      "outputs": [
        {
          "output_type": "stream",
          "text": [
            "02_EDA.ipynb         student-merge.R     student.txt\n",
            "cleanedMathData.csv  student-por.csv     student.zip\n",
            "student-mat.csv      student-por.gsheet  univariate_MathData_2.csv\n"
          ],
          "name": "stdout"
        }
      ]
    },
    {
      "cell_type": "markdown",
      "metadata": {
        "id": "MQN3E7Mc_rLr"
      },
      "source": [
        "***Data visualization***\n",
        "\n"
      ]
    },
    {
      "cell_type": "code",
      "metadata": {
        "colab": {
          "base_uri": "https://localhost:8080/",
          "height": 153
        },
        "id": "AQLcwkls_zAE",
        "outputId": "2812cbb7-b5e7-4a3b-c193-3f5e0a3002d3"
      },
      "source": [
        "import seaborn as sns\n",
        "sns.palplot(sns.color_palette('PuOr'))#purple to orange colors\n",
        "pal=sns.color_palette('PuOr',6)#print 6 color shades from purple to orange\n",
        "pal.as_hex()#set hex code values for colors\n",
        "\n",
        "import matplotlib.pyplot as plt\n",
        "plt.style.use(['seaborn'])\n",
        "sns_colors=['#c6690c','#664697']#orange purple hex codes\n",
        "sns.set_palette(sns_colors)#set the palette as sns_colors\n",
        "sns.palplot(sns.color_palette(sns_colors))#plot the color codes"
      ],
      "execution_count": null,
      "outputs": [
        {
          "output_type": "display_data",
          "data": {
            "image/png": "[encoded data removed]",
            "text/plain": [
              "<Figure size 432x72 with 1 Axes>"
            ]
          },
          "metadata": {
            "tags": []
          }
        },
        {
          "output_type": "display_data",
          "data": {
            "image/png": "[encoded data removed]",
            "text/plain": [
              "<Figure size 144x72 with 1 Axes>"
            ]
          },
          "metadata": {
            "tags": []
          }
        }
      ]
    },
    {
      "cell_type": "code",
      "metadata": {
        "colab": {
          "base_uri": "https://localhost:8080/"
        },
        "id": "IqeZ9HG2BPwI",
        "outputId": "7c8c27a3-bee2-4816-f94e-a8b97bdd1684"
      },
      "source": [
        "uniMathData.columns#columns in the data frame"
      ],
      "execution_count": null,
      "outputs": [
        {
          "output_type": "execute_result",
          "data": {
            "text/plain": [
              "Index(['G1', 'G3'], dtype='object')"
            ]
          },
          "metadata": {
            "tags": []
          },
          "execution_count": 106
        }
      ]
    },
    {
      "cell_type": "code",
      "metadata": {
        "colab": {
          "base_uri": "https://localhost:8080/",
          "height": 392
        },
        "id": "tRt-Xhs_BZIy",
        "outputId": "225357b9-24cc-40f3-e432-fe2813a1245c"
      },
      "source": [
        "#pairplot for all the values\n",
        "\n",
        "sns.pairplot(uniMathData,\n",
        "             x_vars=['G1','G3'],\n",
        "             y_vars=['G1','G3'],\n",
        "             diag_kind='kde'\n",
        "             )"
      ],
      "execution_count": null,
      "outputs": [
        {
          "output_type": "execute_result",
          "data": {
            "text/plain": [
              "<seaborn.axisgrid.PairGrid at 0x7fe9265c2bd0>"
            ]
          },
          "metadata": {
            "tags": []
          },
          "execution_count": 107
        },
        {
          "output_type": "display_data",
          "data": {
            "image/png": "[encoded data removed]",
            "text/plain": [
              "<Figure size 360x360 with 6 Axes>"
            ]
          },
          "metadata": {
            "tags": []
          }
        }
      ]
    },
    {
      "cell_type": "markdown",
      "metadata": {
        "id": "6dgQjUBUCggX"
      },
      "source": [
        "\n",
        "***Data Splits***"
      ]
    },
    {
      "cell_type": "code",
      "metadata": {
        "colab": {
          "base_uri": "https://localhost:8080/"
        },
        "id": "oNJxBLwsCnTi",
        "outputId": "fe16de04-cfbf-4047-d0a3-e279bc7085a5"
      },
      "source": [
        "#80-20 train-test percent split\n",
        "\n",
        "trainDataset=uniMathData.sample(frac=0.8,random_state=0)\n",
        "testDataset=uniMathData.drop(trainDataset.index)\n",
        "\n",
        "\n",
        "print(trainDataset.head())\n",
        "print(testDataset.head())"
      ],
      "execution_count": null,
      "outputs": [
        {
          "output_type": "stream",
          "text": [
            "     G1  G3\n",
            "329  14  14\n",
            "318  11  10\n",
            "317   9   9\n",
            "65   16  15\n",
            "59   15  16\n",
            "    G1  G3\n",
            "9   14  15\n",
            "25   6   8\n",
            "28  11  11\n",
            "31  17  17\n",
            "32  17  16\n"
          ],
          "name": "stdout"
        }
      ]
    },
    {
      "cell_type": "code",
      "metadata": {
        "colab": {
          "base_uri": "https://localhost:8080/"
        },
        "id": "e4GM2mOoDVQo",
        "outputId": "681f3a9e-612b-4658-921a-7c4c6f50e670"
      },
      "source": [
        "print(trainDataset.shape)\n",
        "print(testDataset.shape)"
      ],
      "execution_count": null,
      "outputs": [
        {
          "output_type": "stream",
          "text": [
            "(316, 2)\n",
            "(79, 2)\n"
          ],
          "name": "stdout"
        }
      ]
    },
    {
      "cell_type": "code",
      "metadata": {
        "colab": {
          "base_uri": "https://localhost:8080/"
        },
        "id": "szRnNpTCD5Ds",
        "outputId": "6c61600b-69e4-4947-f38b-cffb6ffe60e3"
      },
      "source": [
        "#copy the trainDataset dataframe for getting the features\n",
        "\n",
        "trainFeatures = trainDataset.copy()\n",
        "testFeatures = testDataset.copy()\n",
        "\n",
        "print(trainFeatures.head())\n",
        "print(testFeatures.head())"
      ],
      "execution_count": null,
      "outputs": [
        {
          "output_type": "stream",
          "text": [
            "     G1  G3\n",
            "329  14  14\n",
            "318  11  10\n",
            "317   9   9\n",
            "65   16  15\n",
            "59   15  16\n",
            "    G1  G3\n",
            "9   14  15\n",
            "25   6   8\n",
            "28  11  11\n",
            "31  17  17\n",
            "32  17  16\n"
          ],
          "name": "stdout"
        }
      ]
    },
    {
      "cell_type": "code",
      "metadata": {
        "colab": {
          "base_uri": "https://localhost:8080/"
        },
        "id": "ecymVBpEFIGr",
        "outputId": "b8e67742-c985-4f10-8f06-abeedff18c51"
      },
      "source": [
        "#removing the G3 column and saving it into the labels variable\n",
        "\n",
        "trainLabels=trainFeatures.pop('G3')\n",
        "testLabels=testFeatures.pop('G3')\n",
        "\n",
        "print(trainLabels.head())\n",
        "print(testLabels.head())"
      ],
      "execution_count": null,
      "outputs": [
        {
          "output_type": "stream",
          "text": [
            "329    14\n",
            "318    10\n",
            "317     9\n",
            "65     15\n",
            "59     16\n",
            "Name: G3, dtype: int64\n",
            "9     15\n",
            "25     8\n",
            "28    11\n",
            "31    17\n",
            "32    16\n",
            "Name: G3, dtype: int64\n"
          ],
          "name": "stdout"
        }
      ]
    },
    {
      "cell_type": "code",
      "metadata": {
        "colab": {
          "base_uri": "https://localhost:8080/"
        },
        "id": "c8I-5zXEFtVM",
        "outputId": "a7a3ec80-69c7-4f41-d4b5-dcaa946e5605"
      },
      "source": [
        "print(trainFeatures.head())\n",
        "print(testFeatures.head())"
      ],
      "execution_count": null,
      "outputs": [
        {
          "output_type": "stream",
          "text": [
            "     G1\n",
            "329  14\n",
            "318  11\n",
            "317   9\n",
            "65   16\n",
            "59   15\n",
            "    G1\n",
            "9   14\n",
            "25   6\n",
            "28  11\n",
            "31  17\n",
            "32  17\n"
          ],
          "name": "stdout"
        }
      ]
    },
    {
      "cell_type": "code",
      "metadata": {
        "id": "YmxH5piAF-Xy"
      },
      "source": [
        "#univariate ->num(features)=1\n",
        "#multvariate ->num(features) >1=11\n",
        "\n",
        "\n",
        "model=tf.keras.Sequential([\n",
        "                           tf.keras.layers.Dense(1)\n",
        "])"
      ],
      "execution_count": null,
      "outputs": []
    },
    {
      "cell_type": "code",
      "metadata": {
        "id": "HssXZTe8Iav5"
      },
      "source": [
        "model.compile(\n",
        "    loss='mean_absolute_error',#minimizing the MAE Loss\n",
        "    optimizer=tf.keras.optimizers.Adam(0.001),#Learning rate specified as 0.01\n",
        "    #optimizer='adam',#takes the default learning rate \n",
        "    metrics=['mae','mse']#meanSqyare and meanAbsolute error metrics\n",
        ")"
      ],
      "execution_count": null,
      "outputs": []
    },
    {
      "cell_type": "code",
      "metadata": {
        "colab": {
          "base_uri": "https://localhost:8080/"
        },
        "id": "flVVtBprKpq8",
        "outputId": "62cd9166-f1e4-4d6f-dffa-f64d937275d3"
      },
      "source": [
        "numEpochs=300\n",
        "history=model.fit(x=trainFeatures,y=trainLabels,validation_data=(testFeatures,testLabels),epochs=numEpochs)"
      ],
      "execution_count": null,
      "outputs": [
        {
          "output_type": "stream",
          "text": [
            "Epoch 1/300\n",
            "10/10 [==============================] - 0s 15ms/step - loss: 4.4706 - mae: 4.4706 - mse: 22.7911 - val_loss: 4.3859 - val_mae: 4.3859 - val_mse: 21.4287\n",
            "Epoch 2/300\n",
            "10/10 [==============================] - 0s 3ms/step - loss: 4.3697 - mae: 4.3697 - mse: 21.8682 - val_loss: 4.2789 - val_mae: 4.2789 - val_mse: 20.4420\n",
            "Epoch 3/300\n",
            "10/10 [==============================] - 0s 3ms/step - loss: 4.2711 - mae: 4.2711 - mse: 21.0057 - val_loss: 4.1711 - val_mae: 4.1711 - val_mse: 19.4806\n",
            "Epoch 4/300\n",
            "10/10 [==============================] - 0s 3ms/step - loss: 4.1708 - mae: 4.1708 - mse: 20.1478 - val_loss: 4.0638 - val_mae: 4.0638 - val_mse: 18.5561\n",
            "Epoch 5/300\n",
            "10/10 [==============================] - 0s 3ms/step - loss: 4.0707 - mae: 4.0707 - mse: 19.3226 - val_loss: 3.9574 - val_mae: 3.9574 - val_mse: 17.6725\n",
            "Epoch 6/300\n",
            "10/10 [==============================] - 0s 5ms/step - loss: 3.9730 - mae: 3.9730 - mse: 18.5421 - val_loss: 3.8506 - val_mae: 3.8506 - val_mse: 16.8185\n",
            "Epoch 7/300\n",
            "10/10 [==============================] - 0s 3ms/step - loss: 3.8752 - mae: 3.8752 - mse: 17.7916 - val_loss: 3.7434 - val_mae: 3.7434 - val_mse: 15.9940\n",
            "Epoch 8/300\n",
            "10/10 [==============================] - 0s 3ms/step - loss: 3.7745 - mae: 3.7745 - mse: 17.0462 - val_loss: 3.6389 - val_mae: 3.6389 - val_mse: 15.2219\n",
            "Epoch 9/300\n",
            "10/10 [==============================] - 0s 3ms/step - loss: 3.6791 - mae: 3.6791 - mse: 16.3507 - val_loss: 3.5327 - val_mae: 3.5327 - val_mse: 14.4689\n",
            "Epoch 10/300\n",
            "10/10 [==============================] - 0s 3ms/step - loss: 3.5827 - mae: 3.5827 - mse: 15.6924 - val_loss: 3.4264 - val_mae: 3.4264 - val_mse: 13.7482\n",
            "Epoch 11/300\n",
            "10/10 [==============================] - 0s 3ms/step - loss: 3.4865 - mae: 3.4865 - mse: 15.0504 - val_loss: 3.3207 - val_mae: 3.3207 - val_mse: 13.0633\n",
            "Epoch 12/300\n",
            "10/10 [==============================] - 0s 3ms/step - loss: 3.3905 - mae: 3.3905 - mse: 14.4252 - val_loss: 3.2162 - val_mae: 3.2162 - val_mse: 12.4177\n",
            "Epoch 13/300\n",
            "10/10 [==============================] - 0s 3ms/step - loss: 3.2986 - mae: 3.2986 - mse: 13.8619 - val_loss: 3.1109 - val_mae: 3.1109 - val_mse: 11.7993\n",
            "Epoch 14/300\n",
            "10/10 [==============================] - 0s 3ms/step - loss: 3.2054 - mae: 3.2054 - mse: 13.3149 - val_loss: 3.0074 - val_mae: 3.0074 - val_mse: 11.2165\n",
            "Epoch 15/300\n",
            "10/10 [==============================] - 0s 3ms/step - loss: 3.1121 - mae: 3.1121 - mse: 12.7956 - val_loss: 2.9072 - val_mae: 2.9072 - val_mse: 10.6698\n",
            "Epoch 16/300\n",
            "10/10 [==============================] - 0s 4ms/step - loss: 3.0218 - mae: 3.0218 - mse: 12.3128 - val_loss: 2.8059 - val_mae: 2.8059 - val_mse: 10.1484\n",
            "Epoch 17/300\n",
            "10/10 [==============================] - 0s 4ms/step - loss: 2.9325 - mae: 2.9325 - mse: 11.8524 - val_loss: 2.7060 - val_mae: 2.7060 - val_mse: 9.6649\n",
            "Epoch 18/300\n",
            "10/10 [==============================] - 0s 3ms/step - loss: 2.8450 - mae: 2.8450 - mse: 11.4346 - val_loss: 2.6087 - val_mae: 2.6087 - val_mse: 9.2237\n",
            "Epoch 19/300\n",
            "10/10 [==============================] - 0s 3ms/step - loss: 2.7613 - mae: 2.7613 - mse: 11.0362 - val_loss: 2.5140 - val_mae: 2.5140 - val_mse: 8.8130\n",
            "Epoch 20/300\n",
            "10/10 [==============================] - 0s 4ms/step - loss: 2.6786 - mae: 2.6786 - mse: 10.6655 - val_loss: 2.4237 - val_mae: 2.4237 - val_mse: 8.4456\n",
            "Epoch 21/300\n",
            "10/10 [==============================] - 0s 3ms/step - loss: 2.6010 - mae: 2.6010 - mse: 10.3344 - val_loss: 2.3318 - val_mae: 2.3318 - val_mse: 8.0994\n",
            "Epoch 22/300\n",
            "10/10 [==============================] - 0s 3ms/step - loss: 2.5245 - mae: 2.5245 - mse: 10.0431 - val_loss: 2.2440 - val_mae: 2.2440 - val_mse: 7.7832\n",
            "Epoch 23/300\n",
            "10/10 [==============================] - 0s 3ms/step - loss: 2.4535 - mae: 2.4535 - mse: 9.7581 - val_loss: 2.1624 - val_mae: 2.1624 - val_mse: 7.5125\n",
            "Epoch 24/300\n",
            "10/10 [==============================] - 0s 3ms/step - loss: 2.3918 - mae: 2.3918 - mse: 9.5305 - val_loss: 2.0818 - val_mae: 2.0818 - val_mse: 7.2663\n",
            "Epoch 25/300\n",
            "10/10 [==============================] - 0s 3ms/step - loss: 2.3286 - mae: 2.3286 - mse: 9.3016 - val_loss: 2.0072 - val_mae: 2.0072 - val_mse: 7.0522\n",
            "Epoch 26/300\n",
            "10/10 [==============================] - 0s 3ms/step - loss: 2.2701 - mae: 2.2701 - mse: 9.1221 - val_loss: 1.9344 - val_mae: 1.9344 - val_mse: 6.8600\n",
            "Epoch 27/300\n",
            "10/10 [==============================] - 0s 4ms/step - loss: 2.2119 - mae: 2.2119 - mse: 8.9354 - val_loss: 1.8666 - val_mae: 1.8666 - val_mse: 6.6964\n",
            "Epoch 28/300\n",
            "10/10 [==============================] - 0s 3ms/step - loss: 2.1640 - mae: 2.1640 - mse: 8.8033 - val_loss: 1.8041 - val_mae: 1.8041 - val_mse: 6.5539\n",
            "Epoch 29/300\n",
            "10/10 [==============================] - 0s 3ms/step - loss: 2.1187 - mae: 2.1187 - mse: 8.6679 - val_loss: 1.7512 - val_mae: 1.7512 - val_mse: 6.4417\n",
            "Epoch 30/300\n",
            "10/10 [==============================] - 0s 3ms/step - loss: 2.0844 - mae: 2.0844 - mse: 8.5817 - val_loss: 1.7082 - val_mae: 1.7082 - val_mse: 6.3505\n",
            "Epoch 31/300\n",
            "10/10 [==============================] - 0s 3ms/step - loss: 2.0529 - mae: 2.0529 - mse: 8.5032 - val_loss: 1.6754 - val_mae: 1.6754 - val_mse: 6.2768\n",
            "Epoch 32/300\n",
            "10/10 [==============================] - 0s 3ms/step - loss: 2.0251 - mae: 2.0251 - mse: 8.4300 - val_loss: 1.6493 - val_mae: 1.6493 - val_mse: 6.2177\n",
            "Epoch 33/300\n",
            "10/10 [==============================] - 0s 3ms/step - loss: 2.0013 - mae: 2.0013 - mse: 8.3745 - val_loss: 1.6295 - val_mae: 1.6295 - val_mse: 6.1741\n",
            "Epoch 34/300\n",
            "10/10 [==============================] - 0s 3ms/step - loss: 1.9839 - mae: 1.9839 - mse: 8.3436 - val_loss: 1.6148 - val_mae: 1.6148 - val_mse: 6.1414\n",
            "Epoch 35/300\n",
            "10/10 [==============================] - 0s 3ms/step - loss: 1.9685 - mae: 1.9685 - mse: 8.3026 - val_loss: 1.6087 - val_mae: 1.6087 - val_mse: 6.1201\n",
            "Epoch 36/300\n",
            "10/10 [==============================] - 0s 4ms/step - loss: 1.9586 - mae: 1.9586 - mse: 8.2878 - val_loss: 1.6046 - val_mae: 1.6046 - val_mse: 6.1039\n",
            "Epoch 37/300\n",
            "10/10 [==============================] - 0s 4ms/step - loss: 1.9488 - mae: 1.9488 - mse: 8.2710 - val_loss: 1.6012 - val_mae: 1.6012 - val_mse: 6.0929\n",
            "Epoch 38/300\n",
            "10/10 [==============================] - 0s 3ms/step - loss: 1.9384 - mae: 1.9384 - mse: 8.2629 - val_loss: 1.5991 - val_mae: 1.5991 - val_mse: 6.0866\n",
            "Epoch 39/300\n",
            "10/10 [==============================] - 0s 3ms/step - loss: 1.9284 - mae: 1.9284 - mse: 8.2526 - val_loss: 1.5977 - val_mae: 1.5977 - val_mse: 6.0844\n",
            "Epoch 40/300\n",
            "10/10 [==============================] - 0s 3ms/step - loss: 1.9183 - mae: 1.9183 - mse: 8.2502 - val_loss: 1.5963 - val_mae: 1.5963 - val_mse: 6.0862\n",
            "Epoch 41/300\n",
            "10/10 [==============================] - 0s 3ms/step - loss: 1.9087 - mae: 1.9087 - mse: 8.2452 - val_loss: 1.5948 - val_mae: 1.5948 - val_mse: 6.0920\n",
            "Epoch 42/300\n",
            "10/10 [==============================] - 0s 3ms/step - loss: 1.9003 - mae: 1.9003 - mse: 8.2521 - val_loss: 1.5933 - val_mae: 1.5933 - val_mse: 6.1035\n",
            "Epoch 43/300\n",
            "10/10 [==============================] - 0s 3ms/step - loss: 1.8899 - mae: 1.8899 - mse: 8.2676 - val_loss: 1.5925 - val_mae: 1.5925 - val_mse: 6.1182\n",
            "Epoch 44/300\n",
            "10/10 [==============================] - 0s 3ms/step - loss: 1.8797 - mae: 1.8797 - mse: 8.2677 - val_loss: 1.5920 - val_mae: 1.5920 - val_mse: 6.1343\n",
            "Epoch 45/300\n",
            "10/10 [==============================] - 0s 3ms/step - loss: 1.8724 - mae: 1.8724 - mse: 8.2838 - val_loss: 1.5918 - val_mae: 1.5918 - val_mse: 6.1569\n",
            "Epoch 46/300\n",
            "10/10 [==============================] - 0s 3ms/step - loss: 1.8642 - mae: 1.8642 - mse: 8.2974 - val_loss: 1.5929 - val_mae: 1.5929 - val_mse: 6.1817\n",
            "Epoch 47/300\n",
            "10/10 [==============================] - 0s 3ms/step - loss: 1.8584 - mae: 1.8584 - mse: 8.3200 - val_loss: 1.5945 - val_mae: 1.5945 - val_mse: 6.2065\n",
            "Epoch 48/300\n",
            "10/10 [==============================] - 0s 3ms/step - loss: 1.8535 - mae: 1.8535 - mse: 8.3374 - val_loss: 1.5966 - val_mae: 1.5966 - val_mse: 6.2293\n",
            "Epoch 49/300\n",
            "10/10 [==============================] - 0s 3ms/step - loss: 1.8504 - mae: 1.8504 - mse: 8.3510 - val_loss: 1.5989 - val_mae: 1.5989 - val_mse: 6.2448\n",
            "Epoch 50/300\n",
            "10/10 [==============================] - 0s 3ms/step - loss: 1.8493 - mae: 1.8493 - mse: 8.3638 - val_loss: 1.6022 - val_mae: 1.6022 - val_mse: 6.2620\n",
            "Epoch 51/300\n",
            "10/10 [==============================] - 0s 3ms/step - loss: 1.8487 - mae: 1.8487 - mse: 8.3737 - val_loss: 1.6041 - val_mae: 1.6041 - val_mse: 6.2703\n",
            "Epoch 52/300\n",
            "10/10 [==============================] - 0s 3ms/step - loss: 1.8485 - mae: 1.8485 - mse: 8.3784 - val_loss: 1.6055 - val_mae: 1.6055 - val_mse: 6.2764\n",
            "Epoch 53/300\n",
            "10/10 [==============================] - 0s 4ms/step - loss: 1.8484 - mae: 1.8484 - mse: 8.3839 - val_loss: 1.6064 - val_mae: 1.6064 - val_mse: 6.2802\n",
            "Epoch 54/300\n",
            "10/10 [==============================] - 0s 3ms/step - loss: 1.8485 - mae: 1.8485 - mse: 8.3861 - val_loss: 1.6064 - val_mae: 1.6064 - val_mse: 6.2800\n",
            "Epoch 55/300\n",
            "10/10 [==============================] - 0s 6ms/step - loss: 1.8482 - mae: 1.8482 - mse: 8.3808 - val_loss: 1.6048 - val_mae: 1.6048 - val_mse: 6.2725\n",
            "Epoch 56/300\n",
            "10/10 [==============================] - 0s 3ms/step - loss: 1.8485 - mae: 1.8485 - mse: 8.3777 - val_loss: 1.6039 - val_mae: 1.6039 - val_mse: 6.2683\n",
            "Epoch 57/300\n",
            "10/10 [==============================] - 0s 3ms/step - loss: 1.8483 - mae: 1.8483 - mse: 8.3764 - val_loss: 1.6044 - val_mae: 1.6044 - val_mse: 6.2704\n",
            "Epoch 58/300\n",
            "10/10 [==============================] - 0s 3ms/step - loss: 1.8482 - mae: 1.8482 - mse: 8.3806 - val_loss: 1.6060 - val_mae: 1.6060 - val_mse: 6.2776\n",
            "Epoch 59/300\n",
            "10/10 [==============================] - 0s 3ms/step - loss: 1.8481 - mae: 1.8481 - mse: 8.3827 - val_loss: 1.6055 - val_mae: 1.6055 - val_mse: 6.2750\n",
            "Epoch 60/300\n",
            "10/10 [==============================] - 0s 3ms/step - loss: 1.8482 - mae: 1.8482 - mse: 8.3795 - val_loss: 1.6050 - val_mae: 1.6050 - val_mse: 6.2726\n",
            "Epoch 61/300\n",
            "10/10 [==============================] - 0s 3ms/step - loss: 1.8480 - mae: 1.8480 - mse: 8.3802 - val_loss: 1.6054 - val_mae: 1.6054 - val_mse: 6.2740\n",
            "Epoch 62/300\n",
            "10/10 [==============================] - 0s 4ms/step - loss: 1.8481 - mae: 1.8481 - mse: 8.3819 - val_loss: 1.6058 - val_mae: 1.6058 - val_mse: 6.2756\n",
            "Epoch 63/300\n",
            "10/10 [==============================] - 0s 4ms/step - loss: 1.8480 - mae: 1.8480 - mse: 8.3783 - val_loss: 1.6043 - val_mae: 1.6043 - val_mse: 6.2685\n",
            "Epoch 64/300\n",
            "10/10 [==============================] - 0s 5ms/step - loss: 1.8480 - mae: 1.8480 - mse: 8.3764 - val_loss: 1.6044 - val_mae: 1.6044 - val_mse: 6.2687\n",
            "Epoch 65/300\n",
            "10/10 [==============================] - 0s 3ms/step - loss: 1.8480 - mae: 1.8480 - mse: 8.3784 - val_loss: 1.6058 - val_mae: 1.6058 - val_mse: 6.2750\n",
            "Epoch 66/300\n",
            "10/10 [==============================] - 0s 4ms/step - loss: 1.8481 - mae: 1.8481 - mse: 8.3783 - val_loss: 1.6044 - val_mae: 1.6044 - val_mse: 6.2685\n",
            "Epoch 67/300\n",
            "10/10 [==============================] - 0s 3ms/step - loss: 1.8485 - mae: 1.8485 - mse: 8.3820 - val_loss: 1.6070 - val_mae: 1.6070 - val_mse: 6.2793\n",
            "Epoch 68/300\n",
            "10/10 [==============================] - 0s 3ms/step - loss: 1.8478 - mae: 1.8478 - mse: 8.3824 - val_loss: 1.6053 - val_mae: 1.6053 - val_mse: 6.2723\n",
            "Epoch 69/300\n",
            "10/10 [==============================] - 0s 3ms/step - loss: 1.8478 - mae: 1.8478 - mse: 8.3780 - val_loss: 1.6052 - val_mae: 1.6052 - val_mse: 6.2714\n",
            "Epoch 70/300\n",
            "10/10 [==============================] - 0s 3ms/step - loss: 1.8476 - mae: 1.8476 - mse: 8.3774 - val_loss: 1.6051 - val_mae: 1.6051 - val_mse: 6.2709\n",
            "Epoch 71/300\n",
            "10/10 [==============================] - 0s 3ms/step - loss: 1.8475 - mae: 1.8475 - mse: 8.3778 - val_loss: 1.6050 - val_mae: 1.6050 - val_mse: 6.2702\n",
            "Epoch 72/300\n",
            "10/10 [==============================] - 0s 3ms/step - loss: 1.8475 - mae: 1.8475 - mse: 8.3776 - val_loss: 1.6049 - val_mae: 1.6049 - val_mse: 6.2695\n",
            "Epoch 73/300\n",
            "10/10 [==============================] - 0s 3ms/step - loss: 1.8475 - mae: 1.8475 - mse: 8.3747 - val_loss: 1.6044 - val_mae: 1.6044 - val_mse: 6.2666\n",
            "Epoch 74/300\n",
            "10/10 [==============================] - 0s 3ms/step - loss: 1.8477 - mae: 1.8477 - mse: 8.3758 - val_loss: 1.6051 - val_mae: 1.6051 - val_mse: 6.2697\n",
            "Epoch 75/300\n",
            "10/10 [==============================] - 0s 3ms/step - loss: 1.8475 - mae: 1.8475 - mse: 8.3755 - val_loss: 1.6046 - val_mae: 1.6046 - val_mse: 6.2672\n",
            "Epoch 76/300\n",
            "10/10 [==============================] - 0s 3ms/step - loss: 1.8474 - mae: 1.8474 - mse: 8.3764 - val_loss: 1.6052 - val_mae: 1.6052 - val_mse: 6.2697\n",
            "Epoch 77/300\n",
            "10/10 [==============================] - 0s 3ms/step - loss: 1.8473 - mae: 1.8473 - mse: 8.3760 - val_loss: 1.6045 - val_mae: 1.6045 - val_mse: 6.2662\n",
            "Epoch 78/300\n",
            "10/10 [==============================] - 0s 3ms/step - loss: 1.8474 - mae: 1.8474 - mse: 8.3746 - val_loss: 1.6050 - val_mae: 1.6050 - val_mse: 6.2683\n",
            "Epoch 79/300\n",
            "10/10 [==============================] - 0s 3ms/step - loss: 1.8473 - mae: 1.8473 - mse: 8.3755 - val_loss: 1.6053 - val_mae: 1.6053 - val_mse: 6.2692\n",
            "Epoch 80/300\n",
            "10/10 [==============================] - 0s 3ms/step - loss: 1.8471 - mae: 1.8471 - mse: 8.3748 - val_loss: 1.6047 - val_mae: 1.6047 - val_mse: 6.2663\n",
            "Epoch 81/300\n",
            "10/10 [==============================] - 0s 3ms/step - loss: 1.8473 - mae: 1.8473 - mse: 8.3758 - val_loss: 1.6052 - val_mae: 1.6052 - val_mse: 6.2681\n",
            "Epoch 82/300\n",
            "10/10 [==============================] - 0s 4ms/step - loss: 1.8472 - mae: 1.8472 - mse: 8.3731 - val_loss: 1.6041 - val_mae: 1.6041 - val_mse: 6.2630\n",
            "Epoch 83/300\n",
            "10/10 [==============================] - 0s 3ms/step - loss: 1.8470 - mae: 1.8470 - mse: 8.3728 - val_loss: 1.6051 - val_mae: 1.6051 - val_mse: 6.2672\n",
            "Epoch 84/300\n",
            "10/10 [==============================] - 0s 3ms/step - loss: 1.8472 - mae: 1.8472 - mse: 8.3745 - val_loss: 1.6044 - val_mae: 1.6044 - val_mse: 6.2639\n",
            "Epoch 85/300\n",
            "10/10 [==============================] - 0s 3ms/step - loss: 1.8470 - mae: 1.8470 - mse: 8.3714 - val_loss: 1.6046 - val_mae: 1.6046 - val_mse: 6.2648\n",
            "Epoch 86/300\n",
            "10/10 [==============================] - 0s 3ms/step - loss: 1.8471 - mae: 1.8471 - mse: 8.3753 - val_loss: 1.6057 - val_mae: 1.6057 - val_mse: 6.2690\n",
            "Epoch 87/300\n",
            "10/10 [==============================] - 0s 3ms/step - loss: 1.8468 - mae: 1.8468 - mse: 8.3744 - val_loss: 1.6045 - val_mae: 1.6045 - val_mse: 6.2638\n",
            "Epoch 88/300\n",
            "10/10 [==============================] - 0s 3ms/step - loss: 1.8468 - mae: 1.8468 - mse: 8.3705 - val_loss: 1.6042 - val_mae: 1.6042 - val_mse: 6.2618\n",
            "Epoch 89/300\n",
            "10/10 [==============================] - 0s 4ms/step - loss: 1.8467 - mae: 1.8467 - mse: 8.3700 - val_loss: 1.6046 - val_mae: 1.6046 - val_mse: 6.2635\n",
            "Epoch 90/300\n",
            "10/10 [==============================] - 0s 4ms/step - loss: 1.8468 - mae: 1.8468 - mse: 8.3702 - val_loss: 1.6044 - val_mae: 1.6044 - val_mse: 6.2624\n",
            "Epoch 91/300\n",
            "10/10 [==============================] - 0s 4ms/step - loss: 1.8466 - mae: 1.8466 - mse: 8.3715 - val_loss: 1.6050 - val_mae: 1.6050 - val_mse: 6.2647\n",
            "Epoch 92/300\n",
            "10/10 [==============================] - 0s 3ms/step - loss: 1.8467 - mae: 1.8467 - mse: 8.3709 - val_loss: 1.6041 - val_mae: 1.6041 - val_mse: 6.2602\n",
            "Epoch 93/300\n",
            "10/10 [==============================] - 0s 3ms/step - loss: 1.8467 - mae: 1.8467 - mse: 8.3708 - val_loss: 1.6044 - val_mae: 1.6044 - val_mse: 6.2616\n",
            "Epoch 94/300\n",
            "10/10 [==============================] - 0s 3ms/step - loss: 1.8465 - mae: 1.8465 - mse: 8.3691 - val_loss: 1.6040 - val_mae: 1.6040 - val_mse: 6.2594\n",
            "Epoch 95/300\n",
            "10/10 [==============================] - 0s 3ms/step - loss: 1.8464 - mae: 1.8464 - mse: 8.3698 - val_loss: 1.6048 - val_mae: 1.6048 - val_mse: 6.2628\n",
            "Epoch 96/300\n",
            "10/10 [==============================] - 0s 3ms/step - loss: 1.8465 - mae: 1.8465 - mse: 8.3690 - val_loss: 1.6037 - val_mae: 1.6037 - val_mse: 6.2576\n",
            "Epoch 97/300\n",
            "10/10 [==============================] - 0s 4ms/step - loss: 1.8463 - mae: 1.8463 - mse: 8.3695 - val_loss: 1.6051 - val_mae: 1.6051 - val_mse: 6.2634\n",
            "Epoch 98/300\n",
            "10/10 [==============================] - 0s 4ms/step - loss: 1.8462 - mae: 1.8462 - mse: 8.3704 - val_loss: 1.6043 - val_mae: 1.6043 - val_mse: 6.2597\n",
            "Epoch 99/300\n",
            "10/10 [==============================] - 0s 3ms/step - loss: 1.8462 - mae: 1.8462 - mse: 8.3687 - val_loss: 1.6040 - val_mae: 1.6040 - val_mse: 6.2580\n",
            "Epoch 100/300\n",
            "10/10 [==============================] - 0s 3ms/step - loss: 1.8461 - mae: 1.8461 - mse: 8.3678 - val_loss: 1.6034 - val_mae: 1.6034 - val_mse: 6.2549\n",
            "Epoch 101/300\n",
            "10/10 [==============================] - 0s 3ms/step - loss: 1.8462 - mae: 1.8462 - mse: 8.3631 - val_loss: 1.6028 - val_mae: 1.6028 - val_mse: 6.2516\n",
            "Epoch 102/300\n",
            "10/10 [==============================] - 0s 3ms/step - loss: 1.8463 - mae: 1.8463 - mse: 8.3649 - val_loss: 1.6040 - val_mae: 1.6040 - val_mse: 6.2573\n",
            "Epoch 103/300\n",
            "10/10 [==============================] - 0s 3ms/step - loss: 1.8460 - mae: 1.8460 - mse: 8.3654 - val_loss: 1.6038 - val_mae: 1.6038 - val_mse: 6.2560\n",
            "Epoch 104/300\n",
            "10/10 [==============================] - 0s 3ms/step - loss: 1.8462 - mae: 1.8462 - mse: 8.3696 - val_loss: 1.6050 - val_mae: 1.6050 - val_mse: 6.2605\n",
            "Epoch 105/300\n",
            "10/10 [==============================] - 0s 3ms/step - loss: 1.8459 - mae: 1.8459 - mse: 8.3669 - val_loss: 1.6040 - val_mae: 1.6040 - val_mse: 6.2564\n",
            "Epoch 106/300\n",
            "10/10 [==============================] - 0s 3ms/step - loss: 1.8458 - mae: 1.8458 - mse: 8.3634 - val_loss: 1.6033 - val_mae: 1.6033 - val_mse: 6.2527\n",
            "Epoch 107/300\n",
            "10/10 [==============================] - 0s 3ms/step - loss: 1.8458 - mae: 1.8458 - mse: 8.3650 - val_loss: 1.6040 - val_mae: 1.6040 - val_mse: 6.2556\n",
            "Epoch 108/300\n",
            "10/10 [==============================] - 0s 3ms/step - loss: 1.8456 - mae: 1.8456 - mse: 8.3646 - val_loss: 1.6034 - val_mae: 1.6034 - val_mse: 6.2526\n",
            "Epoch 109/300\n",
            "10/10 [==============================] - 0s 3ms/step - loss: 1.8458 - mae: 1.8458 - mse: 8.3624 - val_loss: 1.6035 - val_mae: 1.6035 - val_mse: 6.2527\n",
            "Epoch 110/300\n",
            "10/10 [==============================] - 0s 3ms/step - loss: 1.8458 - mae: 1.8458 - mse: 8.3614 - val_loss: 1.6028 - val_mae: 1.6028 - val_mse: 6.2489\n",
            "Epoch 111/300\n",
            "10/10 [==============================] - 0s 3ms/step - loss: 1.8455 - mae: 1.8455 - mse: 8.3637 - val_loss: 1.6042 - val_mae: 1.6042 - val_mse: 6.2552\n",
            "Epoch 112/300\n",
            "10/10 [==============================] - 0s 4ms/step - loss: 1.8455 - mae: 1.8455 - mse: 8.3654 - val_loss: 1.6040 - val_mae: 1.6040 - val_mse: 6.2540\n",
            "Epoch 113/300\n",
            "10/10 [==============================] - 0s 3ms/step - loss: 1.8455 - mae: 1.8455 - mse: 8.3613 - val_loss: 1.6019 - val_mae: 1.6019 - val_mse: 6.2441\n",
            "Epoch 114/300\n",
            "10/10 [==============================] - 0s 3ms/step - loss: 1.8455 - mae: 1.8455 - mse: 8.3565 - val_loss: 1.6027 - val_mae: 1.6027 - val_mse: 6.2474\n",
            "Epoch 115/300\n",
            "10/10 [==============================] - 0s 4ms/step - loss: 1.8458 - mae: 1.8458 - mse: 8.3653 - val_loss: 1.6047 - val_mae: 1.6047 - val_mse: 6.2561\n",
            "Epoch 116/300\n",
            "10/10 [==============================] - 0s 3ms/step - loss: 1.8456 - mae: 1.8456 - mse: 8.3603 - val_loss: 1.6018 - val_mae: 1.6018 - val_mse: 6.2427\n",
            "Epoch 117/300\n",
            "10/10 [==============================] - 0s 3ms/step - loss: 1.8453 - mae: 1.8453 - mse: 8.3562 - val_loss: 1.6026 - val_mae: 1.6026 - val_mse: 6.2458\n",
            "Epoch 118/300\n",
            "10/10 [==============================] - 0s 3ms/step - loss: 1.8456 - mae: 1.8456 - mse: 8.3629 - val_loss: 1.6052 - val_mae: 1.6052 - val_mse: 6.2571\n",
            "Epoch 119/300\n",
            "10/10 [==============================] - 0s 4ms/step - loss: 1.8451 - mae: 1.8451 - mse: 8.3639 - val_loss: 1.6038 - val_mae: 1.6038 - val_mse: 6.2509\n",
            "Epoch 120/300\n",
            "10/10 [==============================] - 0s 3ms/step - loss: 1.8450 - mae: 1.8450 - mse: 8.3589 - val_loss: 1.6023 - val_mae: 1.6023 - val_mse: 6.2435\n",
            "Epoch 121/300\n",
            "10/10 [==============================] - 0s 3ms/step - loss: 1.8450 - mae: 1.8450 - mse: 8.3554 - val_loss: 1.6026 - val_mae: 1.6026 - val_mse: 6.2447\n",
            "Epoch 122/300\n",
            "10/10 [==============================] - 0s 3ms/step - loss: 1.8448 - mae: 1.8448 - mse: 8.3578 - val_loss: 1.6038 - val_mae: 1.6038 - val_mse: 6.2497\n",
            "Epoch 123/300\n",
            "10/10 [==============================] - 0s 4ms/step - loss: 1.8449 - mae: 1.8449 - mse: 8.3584 - val_loss: 1.6023 - val_mae: 1.6023 - val_mse: 6.2427\n",
            "Epoch 124/300\n",
            "10/10 [==============================] - 0s 3ms/step - loss: 1.8448 - mae: 1.8448 - mse: 8.3580 - val_loss: 1.6036 - val_mae: 1.6036 - val_mse: 6.2483\n",
            "Epoch 125/300\n",
            "10/10 [==============================] - 0s 4ms/step - loss: 1.8446 - mae: 1.8446 - mse: 8.3575 - val_loss: 1.6030 - val_mae: 1.6030 - val_mse: 6.2455\n",
            "Epoch 126/300\n",
            "10/10 [==============================] - 0s 4ms/step - loss: 1.8448 - mae: 1.8448 - mse: 8.3604 - val_loss: 1.6035 - val_mae: 1.6035 - val_mse: 6.2474\n",
            "Epoch 127/300\n",
            "10/10 [==============================] - 0s 3ms/step - loss: 1.8447 - mae: 1.8447 - mse: 8.3529 - val_loss: 1.6016 - val_mae: 1.6016 - val_mse: 6.2382\n",
            "Epoch 128/300\n",
            "10/10 [==============================] - 0s 3ms/step - loss: 1.8446 - mae: 1.8446 - mse: 8.3530 - val_loss: 1.6024 - val_mae: 1.6024 - val_mse: 6.2417\n",
            "Epoch 129/300\n",
            "10/10 [==============================] - 0s 4ms/step - loss: 1.8444 - mae: 1.8444 - mse: 8.3539 - val_loss: 1.6029 - val_mae: 1.6029 - val_mse: 6.2438\n",
            "Epoch 130/300\n",
            "10/10 [==============================] - 0s 3ms/step - loss: 1.8443 - mae: 1.8443 - mse: 8.3570 - val_loss: 1.6036 - val_mae: 1.6036 - val_mse: 6.2461\n",
            "Epoch 131/300\n",
            "10/10 [==============================] - 0s 3ms/step - loss: 1.8444 - mae: 1.8444 - mse: 8.3562 - val_loss: 1.6025 - val_mae: 1.6025 - val_mse: 6.2409\n",
            "Epoch 132/300\n",
            "10/10 [==============================] - 0s 3ms/step - loss: 1.8441 - mae: 1.8441 - mse: 8.3543 - val_loss: 1.6026 - val_mae: 1.6026 - val_mse: 6.2414\n",
            "Epoch 133/300\n",
            "10/10 [==============================] - 0s 4ms/step - loss: 1.8442 - mae: 1.8442 - mse: 8.3547 - val_loss: 1.6027 - val_mae: 1.6027 - val_mse: 6.2415\n",
            "Epoch 134/300\n",
            "10/10 [==============================] - 0s 3ms/step - loss: 1.8440 - mae: 1.8440 - mse: 8.3538 - val_loss: 1.6019 - val_mae: 1.6019 - val_mse: 6.2372\n",
            "Epoch 135/300\n",
            "10/10 [==============================] - 0s 4ms/step - loss: 1.8441 - mae: 1.8441 - mse: 8.3502 - val_loss: 1.6016 - val_mae: 1.6016 - val_mse: 6.2352\n",
            "Epoch 136/300\n",
            "10/10 [==============================] - 0s 4ms/step - loss: 1.8440 - mae: 1.8440 - mse: 8.3520 - val_loss: 1.6029 - val_mae: 1.6029 - val_mse: 6.2413\n",
            "Epoch 137/300\n",
            "10/10 [==============================] - 0s 3ms/step - loss: 1.8439 - mae: 1.8439 - mse: 8.3529 - val_loss: 1.6025 - val_mae: 1.6025 - val_mse: 6.2389\n",
            "Epoch 138/300\n",
            "10/10 [==============================] - 0s 3ms/step - loss: 1.8438 - mae: 1.8438 - mse: 8.3536 - val_loss: 1.6025 - val_mae: 1.6025 - val_mse: 6.2388\n",
            "Epoch 139/300\n",
            "10/10 [==============================] - 0s 4ms/step - loss: 1.8437 - mae: 1.8437 - mse: 8.3531 - val_loss: 1.6026 - val_mae: 1.6026 - val_mse: 6.2389\n",
            "Epoch 140/300\n",
            "10/10 [==============================] - 0s 3ms/step - loss: 1.8437 - mae: 1.8437 - mse: 8.3496 - val_loss: 1.6018 - val_mae: 1.6018 - val_mse: 6.2350\n",
            "Epoch 141/300\n",
            "10/10 [==============================] - 0s 3ms/step - loss: 1.8438 - mae: 1.8438 - mse: 8.3468 - val_loss: 1.6015 - val_mae: 1.6015 - val_mse: 6.2331\n",
            "Epoch 142/300\n",
            "10/10 [==============================] - 0s 3ms/step - loss: 1.8434 - mae: 1.8434 - mse: 8.3488 - val_loss: 1.6038 - val_mae: 1.6038 - val_mse: 6.2429\n",
            "Epoch 143/300\n",
            "10/10 [==============================] - 0s 3ms/step - loss: 1.8438 - mae: 1.8438 - mse: 8.3548 - val_loss: 1.6027 - val_mae: 1.6027 - val_mse: 6.2379\n",
            "Epoch 144/300\n",
            "10/10 [==============================] - 0s 3ms/step - loss: 1.8435 - mae: 1.8435 - mse: 8.3525 - val_loss: 1.6031 - val_mae: 1.6031 - val_mse: 6.2389\n",
            "Epoch 145/300\n",
            "10/10 [==============================] - 0s 4ms/step - loss: 1.8433 - mae: 1.8433 - mse: 8.3473 - val_loss: 1.6011 - val_mae: 1.6011 - val_mse: 6.2296\n",
            "Epoch 146/300\n",
            "10/10 [==============================] - 0s 3ms/step - loss: 1.8434 - mae: 1.8434 - mse: 8.3469 - val_loss: 1.6021 - val_mae: 1.6021 - val_mse: 6.2339\n",
            "Epoch 147/300\n",
            "10/10 [==============================] - 0s 3ms/step - loss: 1.8431 - mae: 1.8431 - mse: 8.3469 - val_loss: 1.6023 - val_mae: 1.6023 - val_mse: 6.2348\n",
            "Epoch 148/300\n",
            "10/10 [==============================] - 0s 3ms/step - loss: 1.8434 - mae: 1.8434 - mse: 8.3521 - val_loss: 1.6033 - val_mae: 1.6033 - val_mse: 6.2386\n",
            "Epoch 149/300\n",
            "10/10 [==============================] - 0s 3ms/step - loss: 1.8430 - mae: 1.8430 - mse: 8.3490 - val_loss: 1.6017 - val_mae: 1.6017 - val_mse: 6.2311\n",
            "Epoch 150/300\n",
            "10/10 [==============================] - 0s 3ms/step - loss: 1.8431 - mae: 1.8431 - mse: 8.3412 - val_loss: 1.6001 - val_mae: 1.6001 - val_mse: 6.2233\n",
            "Epoch 151/300\n",
            "10/10 [==============================] - 0s 4ms/step - loss: 1.8430 - mae: 1.8430 - mse: 8.3392 - val_loss: 1.6005 - val_mae: 1.6005 - val_mse: 6.2248\n",
            "Epoch 152/300\n",
            "10/10 [==============================] - 0s 4ms/step - loss: 1.8430 - mae: 1.8430 - mse: 8.3443 - val_loss: 1.6023 - val_mae: 1.6023 - val_mse: 6.2328\n",
            "Epoch 153/300\n",
            "10/10 [==============================] - 0s 4ms/step - loss: 1.8428 - mae: 1.8428 - mse: 8.3465 - val_loss: 1.6015 - val_mae: 1.6015 - val_mse: 6.2291\n",
            "Epoch 154/300\n",
            "10/10 [==============================] - 0s 4ms/step - loss: 1.8427 - mae: 1.8427 - mse: 8.3455 - val_loss: 1.6012 - val_mae: 1.6012 - val_mse: 6.2272\n",
            "Epoch 155/300\n",
            "10/10 [==============================] - 0s 3ms/step - loss: 1.8428 - mae: 1.8428 - mse: 8.3437 - val_loss: 1.6014 - val_mae: 1.6014 - val_mse: 6.2278\n",
            "Epoch 156/300\n",
            "10/10 [==============================] - 0s 3ms/step - loss: 1.8430 - mae: 1.8430 - mse: 8.3392 - val_loss: 1.5994 - val_mae: 1.5994 - val_mse: 6.2181\n",
            "Epoch 157/300\n",
            "10/10 [==============================] - 0s 3ms/step - loss: 1.8428 - mae: 1.8428 - mse: 8.3426 - val_loss: 1.6026 - val_mae: 1.6026 - val_mse: 6.2323\n",
            "Epoch 158/300\n",
            "10/10 [==============================] - 0s 3ms/step - loss: 1.8424 - mae: 1.8424 - mse: 8.3440 - val_loss: 1.6013 - val_mae: 1.6013 - val_mse: 6.2262\n",
            "Epoch 159/300\n",
            "10/10 [==============================] - 0s 3ms/step - loss: 1.8424 - mae: 1.8424 - mse: 8.3405 - val_loss: 1.6012 - val_mae: 1.6012 - val_mse: 6.2253\n",
            "Epoch 160/300\n",
            "10/10 [==============================] - 0s 3ms/step - loss: 1.8424 - mae: 1.8424 - mse: 8.3426 - val_loss: 1.6016 - val_mae: 1.6016 - val_mse: 6.2266\n",
            "Epoch 161/300\n",
            "10/10 [==============================] - 0s 3ms/step - loss: 1.8423 - mae: 1.8423 - mse: 8.3437 - val_loss: 1.6017 - val_mae: 1.6017 - val_mse: 6.2270\n",
            "Epoch 162/300\n",
            "10/10 [==============================] - 0s 3ms/step - loss: 1.8424 - mae: 1.8424 - mse: 8.3394 - val_loss: 1.6000 - val_mae: 1.6000 - val_mse: 6.2185\n",
            "Epoch 163/300\n",
            "10/10 [==============================] - 0s 3ms/step - loss: 1.8420 - mae: 1.8420 - mse: 8.3363 - val_loss: 1.6018 - val_mae: 1.6018 - val_mse: 6.2264\n",
            "Epoch 164/300\n",
            "10/10 [==============================] - 0s 3ms/step - loss: 1.8421 - mae: 1.8421 - mse: 8.3435 - val_loss: 1.6018 - val_mae: 1.6018 - val_mse: 6.2259\n",
            "Epoch 165/300\n",
            "10/10 [==============================] - 0s 3ms/step - loss: 1.8419 - mae: 1.8419 - mse: 8.3416 - val_loss: 1.6012 - val_mae: 1.6012 - val_mse: 6.2229\n",
            "Epoch 166/300\n",
            "10/10 [==============================] - 0s 3ms/step - loss: 1.8417 - mae: 1.8417 - mse: 8.3384 - val_loss: 1.6008 - val_mae: 1.6008 - val_mse: 6.2207\n",
            "Epoch 167/300\n",
            "10/10 [==============================] - 0s 3ms/step - loss: 1.8419 - mae: 1.8419 - mse: 8.3357 - val_loss: 1.6010 - val_mae: 1.6010 - val_mse: 6.2217\n",
            "Epoch 168/300\n",
            "10/10 [==============================] - 0s 3ms/step - loss: 1.8416 - mae: 1.8416 - mse: 8.3388 - val_loss: 1.6013 - val_mae: 1.6013 - val_mse: 6.2226\n",
            "Epoch 169/300\n",
            "10/10 [==============================] - 0s 3ms/step - loss: 1.8415 - mae: 1.8415 - mse: 8.3370 - val_loss: 1.6004 - val_mae: 1.6004 - val_mse: 6.2181\n",
            "Epoch 170/300\n",
            "10/10 [==============================] - 0s 3ms/step - loss: 1.8418 - mae: 1.8418 - mse: 8.3372 - val_loss: 1.6017 - val_mae: 1.6017 - val_mse: 6.2232\n",
            "Epoch 171/300\n",
            "10/10 [==============================] - 0s 4ms/step - loss: 1.8413 - mae: 1.8413 - mse: 8.3362 - val_loss: 1.6006 - val_mae: 1.6006 - val_mse: 6.2180\n",
            "Epoch 172/300\n",
            "10/10 [==============================] - 0s 5ms/step - loss: 1.8414 - mae: 1.8414 - mse: 8.3358 - val_loss: 1.6010 - val_mae: 1.6010 - val_mse: 6.2197\n",
            "Epoch 173/300\n",
            "10/10 [==============================] - 0s 3ms/step - loss: 1.8412 - mae: 1.8412 - mse: 8.3356 - val_loss: 1.6007 - val_mae: 1.6007 - val_mse: 6.2178\n",
            "Epoch 174/300\n",
            "10/10 [==============================] - 0s 3ms/step - loss: 1.8414 - mae: 1.8414 - mse: 8.3362 - val_loss: 1.6002 - val_mae: 1.6002 - val_mse: 6.2152\n",
            "Epoch 175/300\n",
            "10/10 [==============================] - 0s 4ms/step - loss: 1.8411 - mae: 1.8411 - mse: 8.3338 - val_loss: 1.6010 - val_mae: 1.6010 - val_mse: 6.2185\n",
            "Epoch 176/300\n",
            "10/10 [==============================] - 0s 4ms/step - loss: 1.8412 - mae: 1.8412 - mse: 8.3325 - val_loss: 1.5999 - val_mae: 1.5999 - val_mse: 6.2132\n",
            "Epoch 177/300\n",
            "10/10 [==============================] - 0s 4ms/step - loss: 1.8412 - mae: 1.8412 - mse: 8.3315 - val_loss: 1.6005 - val_mae: 1.6005 - val_mse: 6.2152\n",
            "Epoch 178/300\n",
            "10/10 [==============================] - 0s 3ms/step - loss: 1.8409 - mae: 1.8409 - mse: 8.3354 - val_loss: 1.6019 - val_mae: 1.6019 - val_mse: 6.2210\n",
            "Epoch 179/300\n",
            "10/10 [==============================] - 0s 4ms/step - loss: 1.8413 - mae: 1.8413 - mse: 8.3334 - val_loss: 1.5996 - val_mae: 1.5996 - val_mse: 6.2107\n",
            "Epoch 180/300\n",
            "10/10 [==============================] - 0s 4ms/step - loss: 1.8407 - mae: 1.8407 - mse: 8.3301 - val_loss: 1.6010 - val_mae: 1.6010 - val_mse: 6.2166\n",
            "Epoch 181/300\n",
            "10/10 [==============================] - 0s 4ms/step - loss: 1.8406 - mae: 1.8406 - mse: 8.3326 - val_loss: 1.6002 - val_mae: 1.6002 - val_mse: 6.2128\n",
            "Epoch 182/300\n",
            "10/10 [==============================] - 0s 3ms/step - loss: 1.8406 - mae: 1.8406 - mse: 8.3304 - val_loss: 1.6004 - val_mae: 1.6004 - val_mse: 6.2133\n",
            "Epoch 183/300\n",
            "10/10 [==============================] - 0s 3ms/step - loss: 1.8405 - mae: 1.8405 - mse: 8.3291 - val_loss: 1.6001 - val_mae: 1.6001 - val_mse: 6.2116\n",
            "Epoch 184/300\n",
            "10/10 [==============================] - 0s 3ms/step - loss: 1.8405 - mae: 1.8405 - mse: 8.3311 - val_loss: 1.6004 - val_mae: 1.6004 - val_mse: 6.2122\n",
            "Epoch 185/300\n",
            "10/10 [==============================] - 0s 3ms/step - loss: 1.8405 - mae: 1.8405 - mse: 8.3271 - val_loss: 1.5993 - val_mae: 1.5993 - val_mse: 6.2068\n",
            "Epoch 186/300\n",
            "10/10 [==============================] - 0s 4ms/step - loss: 1.8409 - mae: 1.8409 - mse: 8.3340 - val_loss: 1.6011 - val_mae: 1.6011 - val_mse: 6.2145\n",
            "Epoch 187/300\n",
            "10/10 [==============================] - 0s 3ms/step - loss: 1.8401 - mae: 1.8401 - mse: 8.3290 - val_loss: 1.5993 - val_mae: 1.5993 - val_mse: 6.2062\n",
            "Epoch 188/300\n",
            "10/10 [==============================] - 0s 4ms/step - loss: 1.8403 - mae: 1.8403 - mse: 8.3224 - val_loss: 1.5982 - val_mae: 1.5982 - val_mse: 6.2004\n",
            "Epoch 189/300\n",
            "10/10 [==============================] - 0s 3ms/step - loss: 1.8401 - mae: 1.8401 - mse: 8.3244 - val_loss: 1.5997 - val_mae: 1.5997 - val_mse: 6.2072\n",
            "Epoch 190/300\n",
            "10/10 [==============================] - 0s 3ms/step - loss: 1.8401 - mae: 1.8401 - mse: 8.3300 - val_loss: 1.6016 - val_mae: 1.6016 - val_mse: 6.2150\n",
            "Epoch 191/300\n",
            "10/10 [==============================] - 0s 3ms/step - loss: 1.8399 - mae: 1.8399 - mse: 8.3280 - val_loss: 1.5993 - val_mae: 1.5993 - val_mse: 6.2046\n",
            "Epoch 192/300\n",
            "10/10 [==============================] - 0s 4ms/step - loss: 1.8399 - mae: 1.8399 - mse: 8.3234 - val_loss: 1.5994 - val_mae: 1.5994 - val_mse: 6.2047\n",
            "Epoch 193/300\n",
            "10/10 [==============================] - 0s 3ms/step - loss: 1.8396 - mae: 1.8396 - mse: 8.3237 - val_loss: 1.5999 - val_mae: 1.5999 - val_mse: 6.2068\n",
            "Epoch 194/300\n",
            "10/10 [==============================] - 0s 4ms/step - loss: 1.8396 - mae: 1.8396 - mse: 8.3239 - val_loss: 1.5993 - val_mae: 1.5993 - val_mse: 6.2033\n",
            "Epoch 195/300\n",
            "10/10 [==============================] - 0s 3ms/step - loss: 1.8396 - mae: 1.8396 - mse: 8.3273 - val_loss: 1.6008 - val_mae: 1.6008 - val_mse: 6.2098\n",
            "Epoch 196/300\n",
            "10/10 [==============================] - 0s 3ms/step - loss: 1.8395 - mae: 1.8395 - mse: 8.3250 - val_loss: 1.5987 - val_mae: 1.5987 - val_mse: 6.1997\n",
            "Epoch 197/300\n",
            "10/10 [==============================] - 0s 4ms/step - loss: 1.8393 - mae: 1.8393 - mse: 8.3204 - val_loss: 1.5994 - val_mae: 1.5994 - val_mse: 6.2027\n",
            "Epoch 198/300\n",
            "10/10 [==============================] - 0s 6ms/step - loss: 1.8397 - mae: 1.8397 - mse: 8.3205 - val_loss: 1.5985 - val_mae: 1.5985 - val_mse: 6.1979\n",
            "Epoch 199/300\n",
            "10/10 [==============================] - 0s 4ms/step - loss: 1.8392 - mae: 1.8392 - mse: 8.3233 - val_loss: 1.6002 - val_mae: 1.6002 - val_mse: 6.2053\n",
            "Epoch 200/300\n",
            "10/10 [==============================] - 0s 3ms/step - loss: 1.8391 - mae: 1.8391 - mse: 8.3220 - val_loss: 1.5995 - val_mae: 1.5995 - val_mse: 6.2021\n",
            "Epoch 201/300\n",
            "10/10 [==============================] - 0s 3ms/step - loss: 1.8389 - mae: 1.8389 - mse: 8.3209 - val_loss: 1.5994 - val_mae: 1.5994 - val_mse: 6.2011\n",
            "Epoch 202/300\n",
            "10/10 [==============================] - 0s 4ms/step - loss: 1.8392 - mae: 1.8392 - mse: 8.3231 - val_loss: 1.6002 - val_mae: 1.6002 - val_mse: 6.2044\n",
            "Epoch 203/300\n",
            "10/10 [==============================] - 0s 4ms/step - loss: 1.8388 - mae: 1.8388 - mse: 8.3195 - val_loss: 1.5981 - val_mae: 1.5981 - val_mse: 6.1943\n",
            "Epoch 204/300\n",
            "10/10 [==============================] - 0s 4ms/step - loss: 1.8389 - mae: 1.8389 - mse: 8.3175 - val_loss: 1.5993 - val_mae: 1.5993 - val_mse: 6.1996\n",
            "Epoch 205/300\n",
            "10/10 [==============================] - 0s 3ms/step - loss: 1.8387 - mae: 1.8387 - mse: 8.3191 - val_loss: 1.5992 - val_mae: 1.5992 - val_mse: 6.1986\n",
            "Epoch 206/300\n",
            "10/10 [==============================] - 0s 4ms/step - loss: 1.8386 - mae: 1.8386 - mse: 8.3162 - val_loss: 1.5979 - val_mae: 1.5979 - val_mse: 6.1920\n",
            "Epoch 207/300\n",
            "10/10 [==============================] - 0s 3ms/step - loss: 1.8385 - mae: 1.8385 - mse: 8.3175 - val_loss: 1.5992 - val_mae: 1.5992 - val_mse: 6.1981\n",
            "Epoch 208/300\n",
            "10/10 [==============================] - 0s 4ms/step - loss: 1.8386 - mae: 1.8386 - mse: 8.3160 - val_loss: 1.5976 - val_mae: 1.5976 - val_mse: 6.1901\n",
            "Epoch 209/300\n",
            "10/10 [==============================] - 0s 3ms/step - loss: 1.8385 - mae: 1.8385 - mse: 8.3103 - val_loss: 1.5978 - val_mae: 1.5978 - val_mse: 6.1908\n",
            "Epoch 210/300\n",
            "10/10 [==============================] - 0s 3ms/step - loss: 1.8388 - mae: 1.8388 - mse: 8.3215 - val_loss: 1.6011 - val_mae: 1.6011 - val_mse: 6.2048\n",
            "Epoch 211/300\n",
            "10/10 [==============================] - 0s 4ms/step - loss: 1.8383 - mae: 1.8383 - mse: 8.3202 - val_loss: 1.5988 - val_mae: 1.5988 - val_mse: 6.1946\n",
            "Epoch 212/300\n",
            "10/10 [==============================] - 0s 4ms/step - loss: 1.8382 - mae: 1.8382 - mse: 8.3102 - val_loss: 1.5968 - val_mae: 1.5968 - val_mse: 6.1847\n",
            "Epoch 213/300\n",
            "10/10 [==============================] - 0s 3ms/step - loss: 1.8381 - mae: 1.8381 - mse: 8.3093 - val_loss: 1.5985 - val_mae: 1.5985 - val_mse: 6.1925\n",
            "Epoch 214/300\n",
            "10/10 [==============================] - 0s 4ms/step - loss: 1.8381 - mae: 1.8381 - mse: 8.3171 - val_loss: 1.5984 - val_mae: 1.5984 - val_mse: 6.1916\n",
            "Epoch 215/300\n",
            "10/10 [==============================] - 0s 4ms/step - loss: 1.8379 - mae: 1.8379 - mse: 8.3112 - val_loss: 1.5979 - val_mae: 1.5979 - val_mse: 6.1888\n",
            "Epoch 216/300\n",
            "10/10 [==============================] - 0s 4ms/step - loss: 1.8377 - mae: 1.8377 - mse: 8.3115 - val_loss: 1.5999 - val_mae: 1.5999 - val_mse: 6.1974\n",
            "Epoch 217/300\n",
            "10/10 [==============================] - 0s 4ms/step - loss: 1.8378 - mae: 1.8378 - mse: 8.3167 - val_loss: 1.5994 - val_mae: 1.5994 - val_mse: 6.1945\n",
            "Epoch 218/300\n",
            "10/10 [==============================] - 0s 3ms/step - loss: 1.8378 - mae: 1.8378 - mse: 8.3129 - val_loss: 1.5982 - val_mae: 1.5982 - val_mse: 6.1890\n",
            "Epoch 219/300\n",
            "10/10 [==============================] - 0s 5ms/step - loss: 1.8376 - mae: 1.8376 - mse: 8.3114 - val_loss: 1.5988 - val_mae: 1.5988 - val_mse: 6.1914\n",
            "Epoch 220/300\n",
            "10/10 [==============================] - 0s 3ms/step - loss: 1.8374 - mae: 1.8374 - mse: 8.3117 - val_loss: 1.5985 - val_mae: 1.5985 - val_mse: 6.1896\n",
            "Epoch 221/300\n",
            "10/10 [==============================] - 0s 3ms/step - loss: 1.8374 - mae: 1.8374 - mse: 8.3128 - val_loss: 1.5994 - val_mae: 1.5994 - val_mse: 6.1928\n",
            "Epoch 222/300\n",
            "10/10 [==============================] - 0s 5ms/step - loss: 1.8373 - mae: 1.8373 - mse: 8.3090 - val_loss: 1.5969 - val_mae: 1.5969 - val_mse: 6.1812\n",
            "Epoch 223/300\n",
            "10/10 [==============================] - 0s 4ms/step - loss: 1.8372 - mae: 1.8372 - mse: 8.3081 - val_loss: 1.5984 - val_mae: 1.5984 - val_mse: 6.1877\n",
            "Epoch 224/300\n",
            "10/10 [==============================] - 0s 3ms/step - loss: 1.8375 - mae: 1.8375 - mse: 8.3151 - val_loss: 1.5995 - val_mae: 1.5995 - val_mse: 6.1922\n",
            "Epoch 225/300\n",
            "10/10 [==============================] - 0s 3ms/step - loss: 1.8373 - mae: 1.8373 - mse: 8.3067 - val_loss: 1.5959 - val_mae: 1.5959 - val_mse: 6.1738\n",
            "Epoch 226/300\n",
            "10/10 [==============================] - 0s 4ms/step - loss: 1.8375 - mae: 1.8375 - mse: 8.2994 - val_loss: 1.5975 - val_mae: 1.5975 - val_mse: 6.1828\n",
            "Epoch 227/300\n",
            "10/10 [==============================] - 0s 3ms/step - loss: 1.8386 - mae: 1.8386 - mse: 8.3223 - val_loss: 1.6015 - val_mae: 1.6015 - val_mse: 6.1986\n",
            "Epoch 228/300\n",
            "10/10 [==============================] - 0s 3ms/step - loss: 1.8369 - mae: 1.8369 - mse: 8.3076 - val_loss: 1.5957 - val_mae: 1.5957 - val_mse: 6.1714\n",
            "Epoch 229/300\n",
            "10/10 [==============================] - 0s 3ms/step - loss: 1.8373 - mae: 1.8373 - mse: 8.3048 - val_loss: 1.5978 - val_mae: 1.5978 - val_mse: 6.1830\n",
            "Epoch 230/300\n",
            "10/10 [==============================] - 0s 3ms/step - loss: 1.8364 - mae: 1.8364 - mse: 8.3054 - val_loss: 1.5969 - val_mae: 1.5969 - val_mse: 6.1784\n",
            "Epoch 231/300\n",
            "10/10 [==============================] - 0s 3ms/step - loss: 1.8366 - mae: 1.8366 - mse: 8.3062 - val_loss: 1.5975 - val_mae: 1.5975 - val_mse: 6.1809\n",
            "Epoch 232/300\n",
            "10/10 [==============================] - 0s 3ms/step - loss: 1.8368 - mae: 1.8368 - mse: 8.3005 - val_loss: 1.5966 - val_mae: 1.5966 - val_mse: 6.1761\n",
            "Epoch 233/300\n",
            "10/10 [==============================] - 0s 4ms/step - loss: 1.8362 - mae: 1.8362 - mse: 8.3056 - val_loss: 1.5989 - val_mae: 1.5989 - val_mse: 6.1860\n",
            "Epoch 234/300\n",
            "10/10 [==============================] - 0s 3ms/step - loss: 1.8363 - mae: 1.8363 - mse: 8.3073 - val_loss: 1.5971 - val_mae: 1.5971 - val_mse: 6.1778\n",
            "Epoch 235/300\n",
            "10/10 [==============================] - 0s 3ms/step - loss: 1.8361 - mae: 1.8361 - mse: 8.2995 - val_loss: 1.5967 - val_mae: 1.5967 - val_mse: 6.1756\n",
            "Epoch 236/300\n",
            "10/10 [==============================] - 0s 3ms/step - loss: 1.8360 - mae: 1.8360 - mse: 8.3039 - val_loss: 1.5974 - val_mae: 1.5974 - val_mse: 6.1785\n",
            "Epoch 237/300\n",
            "10/10 [==============================] - 0s 4ms/step - loss: 1.8365 - mae: 1.8365 - mse: 8.3061 - val_loss: 1.5964 - val_mae: 1.5964 - val_mse: 6.1733\n",
            "Epoch 238/300\n",
            "10/10 [==============================] - 0s 3ms/step - loss: 1.8363 - mae: 1.8363 - mse: 8.2944 - val_loss: 1.5956 - val_mae: 1.5956 - val_mse: 6.1682\n",
            "Epoch 239/300\n",
            "10/10 [==============================] - 0s 3ms/step - loss: 1.8358 - mae: 1.8358 - mse: 8.3004 - val_loss: 1.5978 - val_mae: 1.5978 - val_mse: 6.1790\n",
            "Epoch 240/300\n",
            "10/10 [==============================] - 0s 4ms/step - loss: 1.8357 - mae: 1.8357 - mse: 8.3027 - val_loss: 1.5971 - val_mae: 1.5971 - val_mse: 6.1753\n",
            "Epoch 241/300\n",
            "10/10 [==============================] - 0s 3ms/step - loss: 1.8358 - mae: 1.8358 - mse: 8.2989 - val_loss: 1.5974 - val_mae: 1.5974 - val_mse: 6.1762\n",
            "Epoch 242/300\n",
            "10/10 [==============================] - 0s 4ms/step - loss: 1.8357 - mae: 1.8357 - mse: 8.3048 - val_loss: 1.5977 - val_mae: 1.5977 - val_mse: 6.1772\n",
            "Epoch 243/300\n",
            "10/10 [==============================] - 0s 3ms/step - loss: 1.8353 - mae: 1.8353 - mse: 8.2970 - val_loss: 1.5958 - val_mae: 1.5958 - val_mse: 6.1682\n",
            "Epoch 244/300\n",
            "10/10 [==============================] - 0s 4ms/step - loss: 1.8357 - mae: 1.8357 - mse: 8.3002 - val_loss: 1.5966 - val_mae: 1.5966 - val_mse: 6.1717\n",
            "Epoch 245/300\n",
            "10/10 [==============================] - 0s 3ms/step - loss: 1.8353 - mae: 1.8353 - mse: 8.2982 - val_loss: 1.5971 - val_mae: 1.5971 - val_mse: 6.1734\n",
            "Epoch 246/300\n",
            "10/10 [==============================] - 0s 4ms/step - loss: 1.8360 - mae: 1.8360 - mse: 8.2955 - val_loss: 1.5950 - val_mae: 1.5950 - val_mse: 6.1600\n",
            "Epoch 247/300\n",
            "10/10 [==============================] - 0s 4ms/step - loss: 1.8349 - mae: 1.8349 - mse: 8.2931 - val_loss: 1.5988 - val_mae: 1.5988 - val_mse: 6.1791\n",
            "Epoch 248/300\n",
            "10/10 [==============================] - 0s 4ms/step - loss: 1.8352 - mae: 1.8352 - mse: 8.3002 - val_loss: 1.5963 - val_mae: 1.5963 - val_mse: 6.1688\n",
            "Epoch 249/300\n",
            "10/10 [==============================] - 0s 4ms/step - loss: 1.8348 - mae: 1.8348 - mse: 8.2936 - val_loss: 1.5959 - val_mae: 1.5959 - val_mse: 6.1663\n",
            "Epoch 250/300\n",
            "10/10 [==============================] - 0s 4ms/step - loss: 1.8348 - mae: 1.8348 - mse: 8.2935 - val_loss: 1.5977 - val_mae: 1.5977 - val_mse: 6.1737\n",
            "Epoch 251/300\n",
            "10/10 [==============================] - 0s 3ms/step - loss: 1.8349 - mae: 1.8349 - mse: 8.2979 - val_loss: 1.5969 - val_mae: 1.5969 - val_mse: 6.1700\n",
            "Epoch 252/300\n",
            "10/10 [==============================] - 0s 4ms/step - loss: 1.8348 - mae: 1.8348 - mse: 8.2926 - val_loss: 1.5963 - val_mae: 1.5963 - val_mse: 6.1670\n",
            "Epoch 253/300\n",
            "10/10 [==============================] - 0s 5ms/step - loss: 1.8355 - mae: 1.8355 - mse: 8.3010 - val_loss: 1.5967 - val_mae: 1.5967 - val_mse: 6.1683\n",
            "Epoch 254/300\n",
            "10/10 [==============================] - 0s 3ms/step - loss: 1.8355 - mae: 1.8355 - mse: 8.2869 - val_loss: 1.5949 - val_mae: 1.5949 - val_mse: 6.1573\n",
            "Epoch 255/300\n",
            "10/10 [==============================] - 0s 3ms/step - loss: 1.8352 - mae: 1.8352 - mse: 8.2967 - val_loss: 1.5964 - val_mae: 1.5964 - val_mse: 6.1666\n",
            "Epoch 256/300\n",
            "10/10 [==============================] - 0s 4ms/step - loss: 1.8352 - mae: 1.8352 - mse: 8.2870 - val_loss: 1.5956 - val_mae: 1.5956 - val_mse: 6.1624\n",
            "Epoch 257/300\n",
            "10/10 [==============================] - 0s 4ms/step - loss: 1.8345 - mae: 1.8345 - mse: 8.2958 - val_loss: 1.5957 - val_mae: 1.5957 - val_mse: 6.1629\n",
            "Epoch 258/300\n",
            "10/10 [==============================] - 0s 4ms/step - loss: 1.8347 - mae: 1.8347 - mse: 8.2869 - val_loss: 1.5959 - val_mae: 1.5959 - val_mse: 6.1634\n",
            "Epoch 259/300\n",
            "10/10 [==============================] - 0s 4ms/step - loss: 1.8346 - mae: 1.8346 - mse: 8.2956 - val_loss: 1.5951 - val_mae: 1.5951 - val_mse: 6.1582\n",
            "Epoch 260/300\n",
            "10/10 [==============================] - 0s 4ms/step - loss: 1.8344 - mae: 1.8344 - mse: 8.2890 - val_loss: 1.5955 - val_mae: 1.5955 - val_mse: 6.1609\n",
            "Epoch 261/300\n",
            "10/10 [==============================] - 0s 4ms/step - loss: 1.8339 - mae: 1.8339 - mse: 8.2910 - val_loss: 1.5963 - val_mae: 1.5963 - val_mse: 6.1644\n",
            "Epoch 262/300\n",
            "10/10 [==============================] - 0s 4ms/step - loss: 1.8338 - mae: 1.8338 - mse: 8.2883 - val_loss: 1.5955 - val_mae: 1.5955 - val_mse: 6.1603\n",
            "Epoch 263/300\n",
            "10/10 [==============================] - 0s 4ms/step - loss: 1.8337 - mae: 1.8337 - mse: 8.2902 - val_loss: 1.5964 - val_mae: 1.5964 - val_mse: 6.1639\n",
            "Epoch 264/300\n",
            "10/10 [==============================] - 0s 4ms/step - loss: 1.8336 - mae: 1.8336 - mse: 8.2891 - val_loss: 1.5950 - val_mae: 1.5950 - val_mse: 6.1560\n",
            "Epoch 265/300\n",
            "10/10 [==============================] - 0s 4ms/step - loss: 1.8338 - mae: 1.8338 - mse: 8.2840 - val_loss: 1.5974 - val_mae: 1.5974 - val_mse: 6.1664\n",
            "Epoch 266/300\n",
            "10/10 [==============================] - 0s 3ms/step - loss: 1.8350 - mae: 1.8350 - mse: 8.2913 - val_loss: 1.5947 - val_mae: 1.5947 - val_mse: 6.1464\n",
            "Epoch 267/300\n",
            "10/10 [==============================] - 0s 3ms/step - loss: 1.8341 - mae: 1.8341 - mse: 8.2824 - val_loss: 1.5992 - val_mae: 1.5992 - val_mse: 6.1705\n",
            "Epoch 268/300\n",
            "10/10 [==============================] - 0s 3ms/step - loss: 1.8346 - mae: 1.8346 - mse: 8.2846 - val_loss: 1.5948 - val_mae: 1.5948 - val_mse: 6.1467\n",
            "Epoch 269/300\n",
            "10/10 [==============================] - 0s 4ms/step - loss: 1.8344 - mae: 1.8344 - mse: 8.2858 - val_loss: 1.5956 - val_mae: 1.5956 - val_mse: 6.1590\n",
            "Epoch 270/300\n",
            "10/10 [==============================] - 0s 3ms/step - loss: 1.8333 - mae: 1.8333 - mse: 8.2856 - val_loss: 1.5954 - val_mae: 1.5954 - val_mse: 6.1578\n",
            "Epoch 271/300\n",
            "10/10 [==============================] - 0s 4ms/step - loss: 1.8333 - mae: 1.8333 - mse: 8.2872 - val_loss: 1.5950 - val_mae: 1.5950 - val_mse: 6.1544\n",
            "Epoch 272/300\n",
            "10/10 [==============================] - 0s 4ms/step - loss: 1.8333 - mae: 1.8333 - mse: 8.2806 - val_loss: 1.5981 - val_mae: 1.5981 - val_mse: 6.1655\n",
            "Epoch 273/300\n",
            "10/10 [==============================] - 0s 4ms/step - loss: 1.8339 - mae: 1.8339 - mse: 8.2859 - val_loss: 1.5948 - val_mae: 1.5948 - val_mse: 6.1491\n",
            "Epoch 274/300\n",
            "10/10 [==============================] - 0s 3ms/step - loss: 1.8331 - mae: 1.8331 - mse: 8.2848 - val_loss: 1.5957 - val_mae: 1.5957 - val_mse: 6.1580\n",
            "Epoch 275/300\n",
            "10/10 [==============================] - 0s 6ms/step - loss: 1.8331 - mae: 1.8331 - mse: 8.2866 - val_loss: 1.5951 - val_mae: 1.5951 - val_mse: 6.1547\n",
            "Epoch 276/300\n",
            "10/10 [==============================] - 0s 4ms/step - loss: 1.8332 - mae: 1.8332 - mse: 8.2860 - val_loss: 1.5950 - val_mae: 1.5950 - val_mse: 6.1542\n",
            "Epoch 277/300\n",
            "10/10 [==============================] - 0s 3ms/step - loss: 1.8329 - mae: 1.8329 - mse: 8.2843 - val_loss: 1.5969 - val_mae: 1.5969 - val_mse: 6.1603\n",
            "Epoch 278/300\n",
            "10/10 [==============================] - 0s 4ms/step - loss: 1.8333 - mae: 1.8333 - mse: 8.2833 - val_loss: 1.5958 - val_mae: 1.5958 - val_mse: 6.1569\n",
            "Epoch 279/300\n",
            "10/10 [==============================] - 0s 3ms/step - loss: 1.8330 - mae: 1.8330 - mse: 8.2857 - val_loss: 1.5957 - val_mae: 1.5957 - val_mse: 6.1564\n",
            "Epoch 280/300\n",
            "10/10 [==============================] - 0s 4ms/step - loss: 1.8330 - mae: 1.8330 - mse: 8.2825 - val_loss: 1.5960 - val_mae: 1.5960 - val_mse: 6.1567\n",
            "Epoch 281/300\n",
            "10/10 [==============================] - 0s 3ms/step - loss: 1.8328 - mae: 1.8328 - mse: 8.2840 - val_loss: 1.5961 - val_mae: 1.5961 - val_mse: 6.1567\n",
            "Epoch 282/300\n",
            "10/10 [==============================] - 0s 4ms/step - loss: 1.8334 - mae: 1.8334 - mse: 8.2825 - val_loss: 1.5971 - val_mae: 1.5971 - val_mse: 6.1590\n",
            "Epoch 283/300\n",
            "10/10 [==============================] - 0s 4ms/step - loss: 1.8332 - mae: 1.8332 - mse: 8.2849 - val_loss: 1.5952 - val_mae: 1.5952 - val_mse: 6.1537\n",
            "Epoch 284/300\n",
            "10/10 [==============================] - 0s 3ms/step - loss: 1.8330 - mae: 1.8330 - mse: 8.2830 - val_loss: 1.5965 - val_mae: 1.5965 - val_mse: 6.1573\n",
            "Epoch 285/300\n",
            "10/10 [==============================] - 0s 4ms/step - loss: 1.8341 - mae: 1.8341 - mse: 8.2785 - val_loss: 1.5950 - val_mae: 1.5950 - val_mse: 6.1491\n",
            "Epoch 286/300\n",
            "10/10 [==============================] - 0s 3ms/step - loss: 1.8333 - mae: 1.8333 - mse: 8.2819 - val_loss: 1.5951 - val_mae: 1.5951 - val_mse: 6.1534\n",
            "Epoch 287/300\n",
            "10/10 [==============================] - 0s 3ms/step - loss: 1.8325 - mae: 1.8325 - mse: 8.2827 - val_loss: 1.5956 - val_mae: 1.5956 - val_mse: 6.1547\n",
            "Epoch 288/300\n",
            "10/10 [==============================] - 0s 3ms/step - loss: 1.8333 - mae: 1.8333 - mse: 8.2832 - val_loss: 1.5955 - val_mae: 1.5955 - val_mse: 6.1540\n",
            "Epoch 289/300\n",
            "10/10 [==============================] - 0s 3ms/step - loss: 1.8334 - mae: 1.8334 - mse: 8.2807 - val_loss: 1.5960 - val_mae: 1.5960 - val_mse: 6.1556\n",
            "Epoch 290/300\n",
            "10/10 [==============================] - 0s 3ms/step - loss: 1.8326 - mae: 1.8326 - mse: 8.2820 - val_loss: 1.5949 - val_mae: 1.5949 - val_mse: 6.1515\n",
            "Epoch 291/300\n",
            "10/10 [==============================] - 0s 4ms/step - loss: 1.8327 - mae: 1.8327 - mse: 8.2818 - val_loss: 1.5949 - val_mae: 1.5949 - val_mse: 6.1508\n",
            "Epoch 292/300\n",
            "10/10 [==============================] - 0s 4ms/step - loss: 1.8326 - mae: 1.8326 - mse: 8.2820 - val_loss: 1.5951 - val_mae: 1.5951 - val_mse: 6.1528\n",
            "Epoch 293/300\n",
            "10/10 [==============================] - 0s 3ms/step - loss: 1.8325 - mae: 1.8325 - mse: 8.2823 - val_loss: 1.5952 - val_mae: 1.5952 - val_mse: 6.1532\n",
            "Epoch 294/300\n",
            "10/10 [==============================] - 0s 3ms/step - loss: 1.8325 - mae: 1.8325 - mse: 8.2822 - val_loss: 1.5950 - val_mae: 1.5950 - val_mse: 6.1507\n",
            "Epoch 295/300\n",
            "10/10 [==============================] - 0s 4ms/step - loss: 1.8328 - mae: 1.8328 - mse: 8.2817 - val_loss: 1.5961 - val_mae: 1.5961 - val_mse: 6.1554\n",
            "Epoch 296/300\n",
            "10/10 [==============================] - 0s 3ms/step - loss: 1.8330 - mae: 1.8330 - mse: 8.2823 - val_loss: 1.5951 - val_mae: 1.5951 - val_mse: 6.1461\n",
            "Epoch 297/300\n",
            "10/10 [==============================] - 0s 3ms/step - loss: 1.8336 - mae: 1.8336 - mse: 8.2813 - val_loss: 1.5950 - val_mae: 1.5950 - val_mse: 6.1484\n",
            "Epoch 298/300\n",
            "10/10 [==============================] - 0s 3ms/step - loss: 1.8332 - mae: 1.8332 - mse: 8.2824 - val_loss: 1.5951 - val_mae: 1.5951 - val_mse: 6.1448\n",
            "Epoch 299/300\n",
            "10/10 [==============================] - 0s 3ms/step - loss: 1.8337 - mae: 1.8337 - mse: 8.2822 - val_loss: 1.5950 - val_mae: 1.5950 - val_mse: 6.1490\n",
            "Epoch 300/300\n",
            "10/10 [==============================] - 0s 4ms/step - loss: 1.8334 - mae: 1.8334 - mse: 8.2812 - val_loss: 1.5949 - val_mae: 1.5949 - val_mse: 6.1505\n"
          ],
          "name": "stdout"
        }
      ]
    },
    {
      "cell_type": "code",
      "metadata": {
        "colab": {
          "base_uri": "https://localhost:8080/"
        },
        "id": "0rjxjj-vMnx1",
        "outputId": "af0f8b6f-3315-4cad-bf48-53aeb786f3f0"
      },
      "source": [
        "print(history)"
      ],
      "execution_count": null,
      "outputs": [
        {
          "output_type": "stream",
          "text": [
            "<tensorflow.python.keras.callbacks.History object at 0x7fe9246e8390>\n"
          ],
          "name": "stdout"
        }
      ]
    },
    {
      "cell_type": "code",
      "metadata": {
        "colab": {
          "base_uri": "https://localhost:8080/"
        },
        "id": "HmGWZJ3-MsqW",
        "outputId": "1a79329d-7ade-4f4f-c9d7-e7aa6652cef9"
      },
      "source": [
        "model.summary()"
      ],
      "execution_count": null,
      "outputs": [
        {
          "output_type": "stream",
          "text": [
            "Model: \"sequential_3\"\n",
            "_________________________________________________________________\n",
            "Layer (type)                 Output Shape              Param #   \n",
            "=================================================================\n",
            "dense_3 (Dense)              (None, 1)                 2         \n",
            "=================================================================\n",
            "Total params: 2\n",
            "Trainable params: 2\n",
            "Non-trainable params: 0\n",
            "_________________________________________________________________\n"
          ],
          "name": "stdout"
        }
      ]
    },
    {
      "cell_type": "code",
      "metadata": {
        "colab": {
          "base_uri": "https://localhost:8080/",
          "height": 1000
        },
        "id": "OaZWrafvGam8",
        "outputId": "415c740e-5755-4c83-bfdc-173431907e0c"
      },
      "source": [
        "#tempString = 'mse'\n",
        "def curvePlots(tempString):\n",
        "  plt.plot(history.history[tempString])\n",
        "  plt.plot(history.history[f'val_{tempString}'])\n",
        "  plt.xlabel('NumEpochs')\n",
        "  plt.ylabel(tempString)\n",
        "  plt.legend([tempString, f'val_{tempString}'])\n",
        "  plt.show()\n",
        "\n",
        "\n",
        "curvePlots('mse')\n",
        "curvePlots('mae')\n",
        "curvePlots('loss')\n"
      ],
      "execution_count": null,
      "outputs": [
        {
          "output_type": "display_data",
          "data": {
            "image/png": "[encoded data removed]",
            "text/plain": [
              "<Figure size 576x396 with 1 Axes>"
            ]
          },
          "metadata": {
            "tags": []
          }
        },
        {
          "output_type": "display_data",
          "data": {
            "image/png": "[encoded data removed]",
            "text/plain": [
              "<Figure size 576x396 with 1 Axes>"
            ]
          },
          "metadata": {
            "tags": []
          }
        },
        {
          "output_type": "display_data",
          "data": {
            "image/png": "[encoded data removed]",
            "text/plain": [
              "<Figure size 576x396 with 1 Axes>"
            ]
          },
          "metadata": {
            "tags": []
          }
        }
      ]
    },
    {
      "cell_type": "code",
      "metadata": {
        "colab": {
          "base_uri": "https://localhost:8080/"
        },
        "id": "iQgEJezRPwlm",
        "outputId": "9af2fc7c-a300-47a5-eb99-0e5a1ede7d18"
      },
      "source": [
        "model.predict([1])"
      ],
      "execution_count": null,
      "outputs": [
        {
          "output_type": "execute_result",
          "data": {
            "text/plain": [
              "array([[1.0019193]], dtype=float32)"
            ]
          },
          "metadata": {
            "tags": []
          },
          "execution_count": 119
        }
      ]
    },
    {
      "cell_type": "code",
      "metadata": {
        "colab": {
          "base_uri": "https://localhost:8080/"
        },
        "id": "oijYLnSvQatx",
        "outputId": "724f61a9-20a4-47b4-b6ed-0297b0100644"
      },
      "source": [
        "#testPreds=model.predict(testFeatures).flatten()#array of all prediction values\n",
        "\n",
        "#for single  values\n",
        "\n",
        "print(f'Prediction for input value 1:{model.predict([1])}')\n",
        "\n",
        "#for a list of values\n",
        "tempListforPreds=[1,2,3,4,5]\n",
        "print(f'''\n",
        "input List = {tempListforPreds}\n",
        "\n",
        "List of Predictions:\n",
        "{model.predict(tempListforPreds)}\n",
        "List of Predicions(flattend out):\n",
        "{model.predict(tempListforPreds).flatten()}\n",
        "''')"
      ],
      "execution_count": null,
      "outputs": [
        {
          "output_type": "stream",
          "text": [
            "Prediction for input value 1:[[1.0019193]]\n",
            "\n",
            "input List = [1, 2, 3, 4, 5]\n",
            "\n",
            "List of Predictions:\n",
            "[[1.0019193]\n",
            " [2.0015197]\n",
            " [3.0011199]\n",
            " [4.0007205]\n",
            " [5.0003204]]\n",
            "List of Predicions(flattend out):\n",
            "[1.0019193 2.0015197 3.0011199 4.0007205 5.0003204]\n",
            "\n"
          ],
          "name": "stdout"
        }
      ]
    },
    {
      "cell_type": "code",
      "metadata": {
        "colab": {
          "base_uri": "https://localhost:8080/"
        },
        "id": "DS-UuXraWGc1",
        "outputId": "4e08e974-12b8-42c2-d2f7-d1d3a04f5cfb"
      },
      "source": [
        "print(testFeatures)"
      ],
      "execution_count": null,
      "outputs": [
        {
          "output_type": "stream",
          "text": [
            "     G1\n",
            "9    14\n",
            "25    6\n",
            "28   11\n",
            "31   17\n",
            "32   17\n",
            "..   ..\n",
            "365  10\n",
            "367   7\n",
            "379  10\n",
            "381   7\n",
            "393  11\n",
            "\n",
            "[79 rows x 1 columns]\n"
          ],
          "name": "stdout"
        }
      ]
    },
    {
      "cell_type": "code",
      "metadata": {
        "id": "1RZoRrp7WPW8"
      },
      "source": [
        "testPreds=model.predict(testFeatures).flatten()#array of all prediction values"
      ],
      "execution_count": null,
      "outputs": []
    },
    {
      "cell_type": "code",
      "metadata": {
        "colab": {
          "base_uri": "https://localhost:8080/"
        },
        "id": "MyKyYzhvWkAe",
        "outputId": "41d25b1f-c609-4c95-a199-2592fd76f6b5"
      },
      "source": [
        "print(len(testPreds))\n",
        "print(testPreds)"
      ],
      "execution_count": null,
      "outputs": [
        {
          "output_type": "stream",
          "text": [
            "79\n",
            "[13.996724   5.999921  10.997923  16.995525  16.995525  11.997523\n",
            " 13.996724  18.994726  18.994726   7.9991217 13.996724  12.997124\n",
            "  7.9991217  6.9995213  8.998722  12.997124  10.997923  15.995925\n",
            "  6.9995213  9.9983225 14.996325  12.997124  13.996724  15.995925\n",
            "  6.9995213  6.9995213  7.9991217  9.9983225 11.997523   9.9983225\n",
            " 11.997523  12.997124   9.9983225  5.999921   8.998722  11.997523\n",
            "  6.9995213  7.9991217 13.996724   8.998722   8.998722   6.9995213\n",
            " 11.997523   5.999921  12.997124   6.9995213  6.9995213 10.997923\n",
            " 12.997124  16.995525  11.997523  14.996325   8.998722  11.997523\n",
            " 14.996325  11.997523  14.996325  11.997523  14.996325  10.997923\n",
            " 11.997523   7.9991217 15.995925   6.9995213 15.995925  10.997923\n",
            " 15.995925  12.997124   7.9991217  7.9991217 11.997523  17.995125\n",
            " 12.997124  15.995925   9.9983225  6.9995213  9.9983225  6.9995213\n",
            " 10.997923 ]\n"
          ],
          "name": "stdout"
        }
      ]
    },
    {
      "cell_type": "code",
      "metadata": {
        "id": "m6A77BFVXejf",
        "colab": {
          "base_uri": "https://localhost:8080/",
          "height": 361
        },
        "outputId": "f291958a-bff8-42e6-eace-50dea8cd8da6"
      },
      "source": [
        "#prediction plot -->how well is your model predicting across the actual label\n",
        "\n",
        "def predPlot(labels, predictions):\n",
        "  plt.scatter(labels, predictions)\n",
        "  plt.ylabel('Predictions')\n",
        "  plt.xlabel('True Value or Labels')\n",
        "  plt.axis('equal')\n",
        "  plt.axis('square')\n",
        "  plt.xlim([0, plt.xlim()[1]])\n",
        "  plt.ylim([0, plt.ylim()[1]])\n",
        "  plt.show()\n",
        "\n",
        "predPlot(testLabels, testPreds)\n"
      ],
      "execution_count": null,
      "outputs": [
        {
          "output_type": "display_data",
          "data": {
            "image/png": "[encoded data removed]",
            "text/plain": [
              "<Figure size 576x396 with 1 Axes>"
            ]
          },
          "metadata": {
            "tags": []
          }
        }
      ]
    },
    {
      "cell_type": "code",
      "metadata": {
        "colab": {
          "base_uri": "https://localhost:8080/",
          "height": 363
        },
        "id": "7zKcR1cARNsT",
        "outputId": "9447388f-baa9-457e-a25a-42105aee05cf"
      },
      "source": [
        "#error plot-->gaussian distribution\n",
        "def errorPlot(preds, labels, counts):\n",
        "  errors = preds - labels\n",
        "  plt.hist(errors, counts)\n",
        "  plt.xlabel('Error')\n",
        "  plt.ylabel('Counts')\n",
        "  plt.show()\n",
        "\n",
        "errorPlot(testPreds, testLabels, numEpochs)"
      ],
      "execution_count": null,
      "outputs": [
        {
          "output_type": "display_data",
          "data": {
            "image/png": "[encoded data removed]",
            "text/plain": [
              "<Figure size 576x396 with 1 Axes>"
            ]
          },
          "metadata": {
            "tags": []
          }
        }
      ]
    }
  ]
}